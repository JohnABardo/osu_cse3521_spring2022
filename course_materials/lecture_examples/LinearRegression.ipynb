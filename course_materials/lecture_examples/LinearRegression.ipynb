{
 "cells": [
  {
   "cell_type": "code",
   "execution_count": 1,
   "metadata": {},
   "outputs": [],
   "source": [
    "import numpy as np\n",
    "import pandas as pd\n",
    "import statsmodels.api as sm"
   ]
  },
  {
   "cell_type": "code",
   "execution_count": 23,
   "metadata": {},
   "outputs": [],
   "source": [
    "raw_data = pd.read_csv(\"./data/BP_Data.csv\")"
   ]
  },
  {
   "cell_type": "code",
   "execution_count": 24,
   "metadata": {},
   "outputs": [
    {
     "data": {
      "text/html": [
       "<div>\n",
       "<style scoped>\n",
       "    .dataframe tbody tr th:only-of-type {\n",
       "        vertical-align: middle;\n",
       "    }\n",
       "\n",
       "    .dataframe tbody tr th {\n",
       "        vertical-align: top;\n",
       "    }\n",
       "\n",
       "    .dataframe thead th {\n",
       "        text-align: right;\n",
       "    }\n",
       "</style>\n",
       "<table border=\"1\" class=\"dataframe\">\n",
       "  <thead>\n",
       "    <tr style=\"text-align: right;\">\n",
       "      <th></th>\n",
       "      <th>Age</th>\n",
       "      <th>Weight</th>\n",
       "      <th>Height</th>\n",
       "      <th>Pulse</th>\n",
       "      <th>Systol</th>\n",
       "      <th>Diastol</th>\n",
       "    </tr>\n",
       "  </thead>\n",
       "  <tbody>\n",
       "    <tr>\n",
       "      <th>0</th>\n",
       "      <td>21</td>\n",
       "      <td>71.0</td>\n",
       "      <td>1629</td>\n",
       "      <td>88</td>\n",
       "      <td>170</td>\n",
       "      <td>76</td>\n",
       "    </tr>\n",
       "    <tr>\n",
       "      <th>1</th>\n",
       "      <td>22</td>\n",
       "      <td>56.5</td>\n",
       "      <td>1569</td>\n",
       "      <td>64</td>\n",
       "      <td>120</td>\n",
       "      <td>60</td>\n",
       "    </tr>\n",
       "    <tr>\n",
       "      <th>2</th>\n",
       "      <td>24</td>\n",
       "      <td>56.0</td>\n",
       "      <td>1561</td>\n",
       "      <td>68</td>\n",
       "      <td>125</td>\n",
       "      <td>75</td>\n",
       "    </tr>\n",
       "    <tr>\n",
       "      <th>3</th>\n",
       "      <td>24</td>\n",
       "      <td>61.0</td>\n",
       "      <td>1619</td>\n",
       "      <td>52</td>\n",
       "      <td>148</td>\n",
       "      <td>120</td>\n",
       "    </tr>\n",
       "    <tr>\n",
       "      <th>4</th>\n",
       "      <td>25</td>\n",
       "      <td>65.0</td>\n",
       "      <td>1566</td>\n",
       "      <td>72</td>\n",
       "      <td>140</td>\n",
       "      <td>78</td>\n",
       "    </tr>\n",
       "    <tr>\n",
       "      <th>5</th>\n",
       "      <td>27</td>\n",
       "      <td>62.0</td>\n",
       "      <td>1639</td>\n",
       "      <td>72</td>\n",
       "      <td>106</td>\n",
       "      <td>72</td>\n",
       "    </tr>\n",
       "    <tr>\n",
       "      <th>6</th>\n",
       "      <td>28</td>\n",
       "      <td>53.0</td>\n",
       "      <td>1494</td>\n",
       "      <td>64</td>\n",
       "      <td>120</td>\n",
       "      <td>76</td>\n",
       "    </tr>\n",
       "    <tr>\n",
       "      <th>7</th>\n",
       "      <td>28</td>\n",
       "      <td>53.0</td>\n",
       "      <td>1568</td>\n",
       "      <td>80</td>\n",
       "      <td>108</td>\n",
       "      <td>62</td>\n",
       "    </tr>\n",
       "    <tr>\n",
       "      <th>8</th>\n",
       "      <td>31</td>\n",
       "      <td>65.0</td>\n",
       "      <td>1540</td>\n",
       "      <td>76</td>\n",
       "      <td>124</td>\n",
       "      <td>70</td>\n",
       "    </tr>\n",
       "    <tr>\n",
       "      <th>9</th>\n",
       "      <td>32</td>\n",
       "      <td>57.0</td>\n",
       "      <td>1530</td>\n",
       "      <td>60</td>\n",
       "      <td>134</td>\n",
       "      <td>64</td>\n",
       "    </tr>\n",
       "    <tr>\n",
       "      <th>10</th>\n",
       "      <td>33</td>\n",
       "      <td>66.5</td>\n",
       "      <td>1622</td>\n",
       "      <td>68</td>\n",
       "      <td>116</td>\n",
       "      <td>76</td>\n",
       "    </tr>\n",
       "    <tr>\n",
       "      <th>11</th>\n",
       "      <td>33</td>\n",
       "      <td>59.1</td>\n",
       "      <td>1486</td>\n",
       "      <td>72</td>\n",
       "      <td>114</td>\n",
       "      <td>74</td>\n",
       "    </tr>\n",
       "    <tr>\n",
       "      <th>12</th>\n",
       "      <td>34</td>\n",
       "      <td>64.0</td>\n",
       "      <td>1578</td>\n",
       "      <td>88</td>\n",
       "      <td>130</td>\n",
       "      <td>80</td>\n",
       "    </tr>\n",
       "    <tr>\n",
       "      <th>13</th>\n",
       "      <td>35</td>\n",
       "      <td>69.5</td>\n",
       "      <td>1645</td>\n",
       "      <td>60</td>\n",
       "      <td>118</td>\n",
       "      <td>68</td>\n",
       "    </tr>\n",
       "    <tr>\n",
       "      <th>14</th>\n",
       "      <td>35</td>\n",
       "      <td>64.0</td>\n",
       "      <td>1648</td>\n",
       "      <td>60</td>\n",
       "      <td>138</td>\n",
       "      <td>78</td>\n",
       "    </tr>\n",
       "    <tr>\n",
       "      <th>15</th>\n",
       "      <td>36</td>\n",
       "      <td>56.5</td>\n",
       "      <td>1521</td>\n",
       "      <td>72</td>\n",
       "      <td>134</td>\n",
       "      <td>86</td>\n",
       "    </tr>\n",
       "    <tr>\n",
       "      <th>16</th>\n",
       "      <td>36</td>\n",
       "      <td>57.0</td>\n",
       "      <td>1547</td>\n",
       "      <td>84</td>\n",
       "      <td>120</td>\n",
       "      <td>70</td>\n",
       "    </tr>\n",
       "    <tr>\n",
       "      <th>17</th>\n",
       "      <td>37</td>\n",
       "      <td>55.0</td>\n",
       "      <td>1505</td>\n",
       "      <td>64</td>\n",
       "      <td>120</td>\n",
       "      <td>76</td>\n",
       "    </tr>\n",
       "    <tr>\n",
       "      <th>18</th>\n",
       "      <td>37</td>\n",
       "      <td>57.0</td>\n",
       "      <td>1473</td>\n",
       "      <td>72</td>\n",
       "      <td>114</td>\n",
       "      <td>80</td>\n",
       "    </tr>\n",
       "    <tr>\n",
       "      <th>19</th>\n",
       "      <td>38</td>\n",
       "      <td>58.0</td>\n",
       "      <td>1538</td>\n",
       "      <td>64</td>\n",
       "      <td>124</td>\n",
       "      <td>64</td>\n",
       "    </tr>\n",
       "    <tr>\n",
       "      <th>20</th>\n",
       "      <td>38</td>\n",
       "      <td>59.5</td>\n",
       "      <td>1513</td>\n",
       "      <td>80</td>\n",
       "      <td>114</td>\n",
       "      <td>66</td>\n",
       "    </tr>\n",
       "    <tr>\n",
       "      <th>21</th>\n",
       "      <td>38</td>\n",
       "      <td>61.0</td>\n",
       "      <td>1653</td>\n",
       "      <td>76</td>\n",
       "      <td>136</td>\n",
       "      <td>78</td>\n",
       "    </tr>\n",
       "    <tr>\n",
       "      <th>22</th>\n",
       "      <td>38</td>\n",
       "      <td>57.0</td>\n",
       "      <td>1566</td>\n",
       "      <td>60</td>\n",
       "      <td>126</td>\n",
       "      <td>72</td>\n",
       "    </tr>\n",
       "    <tr>\n",
       "      <th>23</th>\n",
       "      <td>39</td>\n",
       "      <td>57.5</td>\n",
       "      <td>1580</td>\n",
       "      <td>64</td>\n",
       "      <td>124</td>\n",
       "      <td>62</td>\n",
       "    </tr>\n",
       "    <tr>\n",
       "      <th>24</th>\n",
       "      <td>39</td>\n",
       "      <td>74.0</td>\n",
       "      <td>1647</td>\n",
       "      <td>64</td>\n",
       "      <td>128</td>\n",
       "      <td>84</td>\n",
       "    </tr>\n",
       "    <tr>\n",
       "      <th>25</th>\n",
       "      <td>39</td>\n",
       "      <td>72.0</td>\n",
       "      <td>1620</td>\n",
       "      <td>68</td>\n",
       "      <td>134</td>\n",
       "      <td>92</td>\n",
       "    </tr>\n",
       "    <tr>\n",
       "      <th>26</th>\n",
       "      <td>41</td>\n",
       "      <td>62.5</td>\n",
       "      <td>1637</td>\n",
       "      <td>76</td>\n",
       "      <td>112</td>\n",
       "      <td>80</td>\n",
       "    </tr>\n",
       "    <tr>\n",
       "      <th>27</th>\n",
       "      <td>41</td>\n",
       "      <td>68.0</td>\n",
       "      <td>1528</td>\n",
       "      <td>60</td>\n",
       "      <td>128</td>\n",
       "      <td>82</td>\n",
       "    </tr>\n",
       "    <tr>\n",
       "      <th>28</th>\n",
       "      <td>41</td>\n",
       "      <td>63.4</td>\n",
       "      <td>1647</td>\n",
       "      <td>76</td>\n",
       "      <td>134</td>\n",
       "      <td>92</td>\n",
       "    </tr>\n",
       "    <tr>\n",
       "      <th>29</th>\n",
       "      <td>42</td>\n",
       "      <td>68.0</td>\n",
       "      <td>1605</td>\n",
       "      <td>88</td>\n",
       "      <td>128</td>\n",
       "      <td>90</td>\n",
       "    </tr>\n",
       "    <tr>\n",
       "      <th>30</th>\n",
       "      <td>43</td>\n",
       "      <td>69.0</td>\n",
       "      <td>1625</td>\n",
       "      <td>72</td>\n",
       "      <td>140</td>\n",
       "      <td>72</td>\n",
       "    </tr>\n",
       "    <tr>\n",
       "      <th>31</th>\n",
       "      <td>43</td>\n",
       "      <td>73.0</td>\n",
       "      <td>1615</td>\n",
       "      <td>68</td>\n",
       "      <td>138</td>\n",
       "      <td>74</td>\n",
       "    </tr>\n",
       "    <tr>\n",
       "      <th>32</th>\n",
       "      <td>43</td>\n",
       "      <td>64.0</td>\n",
       "      <td>1640</td>\n",
       "      <td>60</td>\n",
       "      <td>118</td>\n",
       "      <td>66</td>\n",
       "    </tr>\n",
       "    <tr>\n",
       "      <th>33</th>\n",
       "      <td>44</td>\n",
       "      <td>65.0</td>\n",
       "      <td>1610</td>\n",
       "      <td>74</td>\n",
       "      <td>110</td>\n",
       "      <td>70</td>\n",
       "    </tr>\n",
       "    <tr>\n",
       "      <th>34</th>\n",
       "      <td>44</td>\n",
       "      <td>71.0</td>\n",
       "      <td>1572</td>\n",
       "      <td>72</td>\n",
       "      <td>142</td>\n",
       "      <td>84</td>\n",
       "    </tr>\n",
       "    <tr>\n",
       "      <th>35</th>\n",
       "      <td>45</td>\n",
       "      <td>60.2</td>\n",
       "      <td>1534</td>\n",
       "      <td>56</td>\n",
       "      <td>134</td>\n",
       "      <td>70</td>\n",
       "    </tr>\n",
       "    <tr>\n",
       "      <th>36</th>\n",
       "      <td>47</td>\n",
       "      <td>55.0</td>\n",
       "      <td>1536</td>\n",
       "      <td>64</td>\n",
       "      <td>116</td>\n",
       "      <td>54</td>\n",
       "    </tr>\n",
       "    <tr>\n",
       "      <th>37</th>\n",
       "      <td>50</td>\n",
       "      <td>70.0</td>\n",
       "      <td>1630</td>\n",
       "      <td>72</td>\n",
       "      <td>132</td>\n",
       "      <td>90</td>\n",
       "    </tr>\n",
       "    <tr>\n",
       "      <th>38</th>\n",
       "      <td>54</td>\n",
       "      <td>87.0</td>\n",
       "      <td>1542</td>\n",
       "      <td>92</td>\n",
       "      <td>152</td>\n",
       "      <td>88</td>\n",
       "    </tr>\n",
       "  </tbody>\n",
       "</table>\n",
       "</div>"
      ],
      "text/plain": [
       "    Age  Weight  Height  Pulse  Systol  Diastol\n",
       "0    21    71.0    1629     88     170       76\n",
       "1    22    56.5    1569     64     120       60\n",
       "2    24    56.0    1561     68     125       75\n",
       "3    24    61.0    1619     52     148      120\n",
       "4    25    65.0    1566     72     140       78\n",
       "5    27    62.0    1639     72     106       72\n",
       "6    28    53.0    1494     64     120       76\n",
       "7    28    53.0    1568     80     108       62\n",
       "8    31    65.0    1540     76     124       70\n",
       "9    32    57.0    1530     60     134       64\n",
       "10   33    66.5    1622     68     116       76\n",
       "11   33    59.1    1486     72     114       74\n",
       "12   34    64.0    1578     88     130       80\n",
       "13   35    69.5    1645     60     118       68\n",
       "14   35    64.0    1648     60     138       78\n",
       "15   36    56.5    1521     72     134       86\n",
       "16   36    57.0    1547     84     120       70\n",
       "17   37    55.0    1505     64     120       76\n",
       "18   37    57.0    1473     72     114       80\n",
       "19   38    58.0    1538     64     124       64\n",
       "20   38    59.5    1513     80     114       66\n",
       "21   38    61.0    1653     76     136       78\n",
       "22   38    57.0    1566     60     126       72\n",
       "23   39    57.5    1580     64     124       62\n",
       "24   39    74.0    1647     64     128       84\n",
       "25   39    72.0    1620     68     134       92\n",
       "26   41    62.5    1637     76     112       80\n",
       "27   41    68.0    1528     60     128       82\n",
       "28   41    63.4    1647     76     134       92\n",
       "29   42    68.0    1605     88     128       90\n",
       "30   43    69.0    1625     72     140       72\n",
       "31   43    73.0    1615     68     138       74\n",
       "32   43    64.0    1640     60     118       66\n",
       "33   44    65.0    1610     74     110       70\n",
       "34   44    71.0    1572     72     142       84\n",
       "35   45    60.2    1534     56     134       70\n",
       "36   47    55.0    1536     64     116       54\n",
       "37   50    70.0    1630     72     132       90\n",
       "38   54    87.0    1542     92     152       88"
      ]
     },
     "execution_count": 24,
     "metadata": {},
     "output_type": "execute_result"
    }
   ],
   "source": [
    "raw_data"
   ]
  },
  {
   "cell_type": "code",
   "execution_count": 4,
   "metadata": {},
   "outputs": [
    {
     "data": {
      "text/plain": [
       "(39, 6)"
      ]
     },
     "execution_count": 4,
     "metadata": {},
     "output_type": "execute_result"
    }
   ],
   "source": [
    "raw_data.shape"
   ]
  },
  {
   "cell_type": "markdown",
   "metadata": {},
   "source": [
    "# Simple Linear Regression"
   ]
  },
  {
   "cell_type": "code",
   "execution_count": 26,
   "metadata": {},
   "outputs": [],
   "source": [
    "X = raw_data['Weight']\n",
    "X = sm.add_constant(X)\n",
    "y = raw_data['Systol']"
   ]
  },
  {
   "cell_type": "code",
   "execution_count": 28,
   "metadata": {},
   "outputs": [
    {
     "data": {
      "text/plain": [
       "0     170\n",
       "1     120\n",
       "2     125\n",
       "3     148\n",
       "4     140\n",
       "5     106\n",
       "6     120\n",
       "7     108\n",
       "8     124\n",
       "9     134\n",
       "10    116\n",
       "11    114\n",
       "12    130\n",
       "13    118\n",
       "14    138\n",
       "15    134\n",
       "16    120\n",
       "17    120\n",
       "18    114\n",
       "19    124\n",
       "20    114\n",
       "21    136\n",
       "22    126\n",
       "23    124\n",
       "24    128\n",
       "25    134\n",
       "26    112\n",
       "27    128\n",
       "28    134\n",
       "29    128\n",
       "30    140\n",
       "31    138\n",
       "32    118\n",
       "33    110\n",
       "34    142\n",
       "35    134\n",
       "36    116\n",
       "37    132\n",
       "38    152\n",
       "Name: Systol, dtype: int64"
      ]
     },
     "execution_count": 28,
     "metadata": {},
     "output_type": "execute_result"
    }
   ],
   "source": [
    "y"
   ]
  },
  {
   "cell_type": "code",
   "execution_count": 29,
   "metadata": {},
   "outputs": [
    {
     "name": "stdout",
     "output_type": "stream",
     "text": [
      "                            OLS Regression Results                            \n",
      "==============================================================================\n",
      "Dep. Variable:                 Systol   R-squared:                       0.272\n",
      "Model:                            OLS   Adj. R-squared:                  0.252\n",
      "Method:                 Least Squares   F-statistic:                     13.81\n",
      "Date:                Thu, 17 Feb 2022   Prob (F-statistic):           0.000665\n",
      "Time:                        14:40:35   Log-Likelihood:                -149.01\n",
      "No. Observations:                  39   AIC:                             302.0\n",
      "Df Residuals:                      37   BIC:                             305.3\n",
      "Df Model:                           1                                         \n",
      "Covariance Type:            nonrobust                                         \n",
      "==============================================================================\n",
      "                 coef    std err          t      P>|t|      [0.025      0.975]\n",
      "------------------------------------------------------------------------------\n",
      "const         66.5969     16.464      4.045      0.000      33.238      99.956\n",
      "Weight         0.9629      0.259      3.716      0.001       0.438       1.488\n",
      "==============================================================================\n",
      "Omnibus:                        5.876   Durbin-Watson:                   1.787\n",
      "Prob(Omnibus):                  0.053   Jarque-Bera (JB):                4.604\n",
      "Skew:                           0.633   Prob(JB):                        0.100\n",
      "Kurtosis:                       4.109   Cond. No.                         576.\n",
      "==============================================================================\n",
      "\n",
      "Notes:\n",
      "[1] Standard Errors assume that the covariance matrix of the errors is correctly specified.\n"
     ]
    }
   ],
   "source": [
    "model = sm.OLS(y, X)\n",
    "results = model.fit()\n",
    "print(results.summary())"
   ]
  },
  {
   "cell_type": "markdown",
   "metadata": {},
   "source": [
    "# Multiple Linear Regression"
   ]
  },
  {
   "cell_type": "code",
   "execution_count": 30,
   "metadata": {
    "scrolled": true
   },
   "outputs": [
    {
     "name": "stdout",
     "output_type": "stream",
     "text": [
      "                            OLS Regression Results                            \n",
      "==============================================================================\n",
      "Dep. Variable:                 Systol   R-squared:                       0.337\n",
      "Model:                            OLS   Adj. R-squared:                  0.259\n",
      "Method:                 Least Squares   F-statistic:                     4.324\n",
      "Date:                Thu, 17 Feb 2022   Prob (F-statistic):            0.00619\n",
      "Time:                        14:47:22   Log-Likelihood:                -147.17\n",
      "No. Observations:                  39   AIC:                             304.3\n",
      "Df Residuals:                      34   BIC:                             312.7\n",
      "Df Model:                           4                                         \n",
      "Covariance Type:            nonrobust                                         \n",
      "==============================================================================\n",
      "                 coef    std err          t      P>|t|      [0.025      0.975]\n",
      "------------------------------------------------------------------------------\n",
      "const        100.1172     59.699      1.677      0.103     -21.205     221.440\n",
      "Age           -0.4874      0.269     -1.813      0.079      -1.034       0.059\n",
      "Weight         1.2880      0.345      3.728      0.001       0.586       1.990\n",
      "Height        -0.0195      0.040     -0.488      0.629      -0.101       0.062\n",
      "Pulse         -0.0765      0.206     -0.371      0.713      -0.495       0.342\n",
      "==============================================================================\n",
      "Omnibus:                        0.100   Durbin-Watson:                   1.902\n",
      "Prob(Omnibus):                  0.951   Jarque-Bera (JB):                0.055\n",
      "Skew:                           0.064   Prob(JB):                        0.973\n",
      "Kurtosis:                       2.867   Cond. No.                     5.23e+04\n",
      "==============================================================================\n",
      "\n",
      "Notes:\n",
      "[1] Standard Errors assume that the covariance matrix of the errors is correctly specified.\n",
      "[2] The condition number is large, 5.23e+04. This might indicate that there are\n",
      "strong multicollinearity or other numerical problems.\n"
     ]
    }
   ],
   "source": [
    "X = raw_data[['Age','Weight','Height','Pulse']]\n",
    "X = sm.add_constant(X)\n",
    "y = raw_data['Systol']\n",
    "\n",
    "model = sm.OLS(y, X)\n",
    "results = model.fit()\n",
    "print(results.summary())"
   ]
  },
  {
   "cell_type": "markdown",
   "metadata": {},
   "source": [
    "## But have we been doing lies? No."
   ]
  },
  {
   "cell_type": "code",
   "execution_count": 32,
   "metadata": {},
   "outputs": [
    {
     "data": {
      "text/plain": [
       "array([ 1.00117217e+02, -4.87384697e-01,  1.28796234e+00, -1.95478783e-02,\n",
       "       -7.65273076e-02])"
      ]
     },
     "execution_count": 32,
     "metadata": {},
     "output_type": "execute_result"
    }
   ],
   "source": [
    "manual_beta = np.dot(np.dot(np.linalg.inv(np.dot(X.T, X)), X.T), y)\n",
    "manual_beta"
   ]
  },
  {
   "cell_type": "code",
   "execution_count": 9,
   "metadata": {},
   "outputs": [],
   "source": [
    "error_terms = y - np.dot(X, manual_beta)"
   ]
  },
  {
   "cell_type": "code",
   "execution_count": 10,
   "metadata": {},
   "outputs": [
    {
     "data": {
      "text/plain": [
       "127.3244704089468"
      ]
     },
     "execution_count": 10,
     "metadata": {},
     "output_type": "execute_result"
    }
   ],
   "source": [
    "sigma2 = np.var(error_terms, ddof = 5)\n",
    "sigma2"
   ]
  },
  {
   "cell_type": "code",
   "execution_count": 11,
   "metadata": {},
   "outputs": [
    {
     "data": {
      "text/plain": [
       "array([5.96987115e+01, 2.68839075e-01, 3.45468570e-01, 4.00630207e-02,\n",
       "       2.06015043e-01])"
      ]
     },
     "execution_count": 11,
     "metadata": {},
     "output_type": "execute_result"
    }
   ],
   "source": [
    "cov_beta = np.linalg.inv(np.dot(X.T, X))*sigma2\n",
    "var_beta = np.diag(cov_beta)\n",
    "np.sqrt(var_beta)"
   ]
  },
  {
   "cell_type": "markdown",
   "metadata": {},
   "source": [
    "## Enough Monkey's on Enough Typewriters...gives you \"The Moon is a Harsh Mistress\" and \"LOTR\" at the same time!"
   ]
  },
  {
   "cell_type": "code",
   "execution_count": 33,
   "metadata": {},
   "outputs": [
    {
     "name": "stdout",
     "output_type": "stream",
     "text": [
      "                            OLS Regression Results                            \n",
      "==============================================================================\n",
      "Dep. Variable:                      y   R-squared:                       0.089\n",
      "Model:                            OLS   Adj. R-squared:                 -0.011\n",
      "Method:                 Least Squares   F-statistic:                    0.8880\n",
      "Date:                Thu, 17 Feb 2022   Prob (F-statistic):              0.770\n",
      "Time:                        15:37:50   Log-Likelihood:                -1374.9\n",
      "No. Observations:                1000   AIC:                             2950.\n",
      "Df Residuals:                     900   BIC:                             3440.\n",
      "Df Model:                          99                                         \n",
      "Covariance Type:            nonrobust                                         \n",
      "==============================================================================\n",
      "                 coef    std err          t      P>|t|      [0.025      0.975]\n",
      "------------------------------------------------------------------------------\n",
      "const         -0.0198      0.034     -0.581      0.561      -0.087       0.047\n",
      "x1             0.0269      0.033      0.809      0.419      -0.038       0.092\n",
      "x2             0.0267      0.034      0.794      0.427      -0.039       0.093\n",
      "x3             0.0399      0.033      1.200      0.230      -0.025       0.105\n",
      "x4            -0.0083      0.034     -0.244      0.807      -0.075       0.058\n",
      "x5            -0.0157      0.035     -0.455      0.649      -0.084       0.052\n",
      "x6            -0.0049      0.033     -0.148      0.883      -0.070       0.060\n",
      "x7             0.0094      0.034      0.278      0.781      -0.057       0.076\n",
      "x8            -0.0245      0.034     -0.729      0.466      -0.090       0.041\n",
      "x9             0.0142      0.033      0.429      0.668      -0.051       0.079\n",
      "x10           -0.0018      0.034     -0.053      0.958      -0.069       0.066\n",
      "x11            0.0394      0.033      1.197      0.232      -0.025       0.104\n",
      "x12           -0.0091      0.034     -0.268      0.789      -0.076       0.058\n",
      "x13            0.0403      0.034      1.196      0.232      -0.026       0.106\n",
      "x14           -0.0385      0.032     -1.207      0.228      -0.101       0.024\n",
      "x15           -0.0274      0.034     -0.811      0.418      -0.094       0.039\n",
      "x16            0.0471      0.033      1.431      0.153      -0.017       0.112\n",
      "x17           -0.0056      0.034     -0.168      0.867      -0.072       0.060\n",
      "x18            0.0931      0.034      2.762      0.006       0.027       0.159\n",
      "x19            0.0621      0.032      1.953      0.051      -0.000       0.125\n",
      "x20           -0.0333      0.034     -0.995      0.320      -0.099       0.032\n",
      "x21           -0.0026      0.034     -0.077      0.938      -0.068       0.063\n",
      "x22           -0.0267      0.033     -0.821      0.412      -0.091       0.037\n",
      "x23           -0.0054      0.034     -0.160      0.873      -0.072       0.061\n",
      "x24           -0.0166      0.032     -0.511      0.609      -0.080       0.047\n",
      "x25            0.0210      0.033      0.632      0.528      -0.044       0.086\n",
      "x26            0.0098      0.034      0.288      0.773      -0.057       0.076\n",
      "x27           -0.0341      0.034     -1.014      0.311      -0.100       0.032\n",
      "x28            0.0222      0.033      0.664      0.507      -0.043       0.088\n",
      "x29           -0.0163      0.034     -0.477      0.634      -0.083       0.051\n",
      "x30           -0.0428      0.034     -1.255      0.210      -0.110       0.024\n",
      "x31           -0.0008      0.033     -0.024      0.981      -0.066       0.065\n",
      "x32           -0.0711      0.034     -2.089      0.037      -0.138      -0.004\n",
      "x33           -0.0118      0.034     -0.351      0.726      -0.078       0.054\n",
      "x34           -0.0533      0.035     -1.521      0.129      -0.122       0.015\n",
      "x35           -0.0275      0.034     -0.809      0.419      -0.094       0.039\n",
      "x36            0.0297      0.033      0.905      0.366      -0.035       0.094\n",
      "x37            0.0413      0.034      1.211      0.226      -0.026       0.108\n",
      "x38           -0.0082      0.034     -0.242      0.808      -0.075       0.058\n",
      "x39            0.0246      0.033      0.753      0.452      -0.040       0.089\n",
      "x40           -0.0198      0.034     -0.588      0.556      -0.086       0.046\n",
      "x41           -0.0297      0.033     -0.906      0.365      -0.094       0.035\n",
      "x42           -0.0153      0.033     -0.462      0.644      -0.080       0.050\n",
      "x43           -0.0339      0.034     -0.996      0.320      -0.101       0.033\n",
      "x44            0.0381      0.033      1.173      0.241      -0.026       0.102\n",
      "x45           -0.0008      0.033     -0.024      0.980      -0.065       0.064\n",
      "x46           -0.0204      0.034     -0.602      0.547      -0.087       0.046\n",
      "x47            0.0560      0.033      1.697      0.090      -0.009       0.121\n",
      "x48           -0.0301      0.034     -0.890      0.374      -0.097       0.036\n",
      "x49           -0.0144      0.032     -0.448      0.654      -0.077       0.049\n",
      "x50            0.0217      0.035      0.626      0.532      -0.046       0.090\n",
      "x51           -0.0432      0.034     -1.287      0.198      -0.109       0.023\n",
      "x52           -0.0040      0.034     -0.118      0.906      -0.071       0.063\n",
      "x53            0.0047      0.033      0.143      0.886      -0.060       0.070\n",
      "x54            0.0671      0.033      2.003      0.045       0.001       0.133\n",
      "x55           -0.0004      0.034     -0.013      0.990      -0.067       0.066\n",
      "x56           -0.0287      0.033     -0.869      0.385      -0.094       0.036\n",
      "x57            0.0461      0.035      1.331      0.183      -0.022       0.114\n",
      "x58            0.0495      0.034      1.444      0.149      -0.018       0.117\n",
      "x59           -0.0049      0.033     -0.146      0.884      -0.070       0.060\n",
      "x60            0.0268      0.032      0.833      0.405      -0.036       0.090\n",
      "x61           -0.0098      0.033     -0.300      0.764      -0.074       0.054\n",
      "x62           -0.0375      0.034     -1.096      0.274      -0.105       0.030\n",
      "x63           -0.0708      0.035     -2.023      0.043      -0.140      -0.002\n",
      "x64            0.0401      0.033      1.226      0.221      -0.024       0.104\n",
      "x65            0.0030      0.034      0.087      0.931      -0.065       0.071\n",
      "x66            0.0015      0.033      0.046      0.963      -0.063       0.066\n",
      "x67            0.0232      0.034      0.689      0.491      -0.043       0.089\n",
      "x68            0.0232      0.033      0.696      0.486      -0.042       0.089\n",
      "x69           -0.0276      0.035     -0.783      0.434      -0.097       0.041\n",
      "x70            0.0317      0.033      0.957      0.339      -0.033       0.097\n",
      "x71            0.0117      0.034      0.346      0.730      -0.055       0.078\n",
      "x72           -0.0418      0.034     -1.240      0.215      -0.108       0.024\n",
      "x73            0.0018      0.033      0.056      0.956      -0.062       0.066\n",
      "x74           -0.0415      0.034     -1.234      0.218      -0.108       0.025\n",
      "x75            0.0655      0.033      1.958      0.051      -0.000       0.131\n",
      "x76            0.0018      0.034      0.052      0.959      -0.066       0.069\n",
      "x77           -0.0135      0.033     -0.407      0.684      -0.078       0.051\n",
      "x78           -0.0587      0.032     -1.821      0.069      -0.122       0.005\n",
      "x79            0.0096      0.033      0.289      0.773      -0.056       0.075\n",
      "x80            0.0160      0.034      0.471      0.638      -0.051       0.082\n",
      "x81            0.0154      0.033      0.469      0.639      -0.049       0.080\n",
      "x82            0.0215      0.032      0.683      0.495      -0.040       0.083\n",
      "x83           -0.0574      0.035     -1.636      0.102      -0.126       0.011\n",
      "x84           -0.0188      0.033     -0.568      0.570      -0.084       0.046\n",
      "x85           -0.0208      0.035     -0.592      0.554      -0.090       0.048\n",
      "x86           -0.0096      0.032     -0.296      0.767      -0.073       0.054\n",
      "x87            0.0273      0.035      0.787      0.432      -0.041       0.095\n",
      "x88            0.0011      0.033      0.034      0.973      -0.064       0.067\n",
      "x89           -0.0184      0.034     -0.536      0.592      -0.086       0.049\n",
      "x90            0.0150      0.034      0.444      0.657      -0.051       0.081\n",
      "x91           -0.0127      0.033     -0.383      0.702      -0.078       0.052\n",
      "x92            0.0169      0.035      0.487      0.627      -0.051       0.085\n",
      "x93           -0.0373      0.034     -1.082      0.279      -0.105       0.030\n",
      "x94            0.0170      0.034      0.500      0.617      -0.050       0.084\n",
      "x95            0.0331      0.033      1.016      0.310      -0.031       0.097\n",
      "x96            0.0263      0.034      0.778      0.437      -0.040       0.093\n",
      "x97            0.0500      0.034      1.476      0.140      -0.016       0.116\n",
      "x98           -0.0475      0.034     -1.377      0.169      -0.115       0.020\n",
      "x99            0.0330      0.034      0.971      0.332      -0.034       0.100\n",
      "==============================================================================\n",
      "Omnibus:                        3.596   Durbin-Watson:                   2.044\n",
      "Prob(Omnibus):                  0.166   Jarque-Bera (JB):                3.084\n",
      "Skew:                           0.046   Prob(JB):                        0.214\n",
      "Kurtosis:                       2.744   Cond. No.                         1.90\n",
      "==============================================================================\n",
      "\n",
      "Notes:\n",
      "[1] Standard Errors assume that the covariance matrix of the errors is correctly specified.\n"
     ]
    }
   ],
   "source": [
    "X = np.random.normal(loc=0.0, scale=1.0, size=[1000,99])\n",
    "X = sm.add_constant(X)\n",
    "y = np.random.normal(loc=0.0, scale=1.0, size=[1000,1])\n",
    "model = sm.OLS(y, X)\n",
    "results = model.fit()\n",
    "print(results.summary()) ## \"Enough\""
   ]
  },
  {
   "cell_type": "markdown",
   "metadata": {},
   "source": [
    "# Comparing Models"
   ]
  },
  {
   "cell_type": "markdown",
   "metadata": {},
   "source": [
    "### Nested Models"
   ]
  },
  {
   "cell_type": "code",
   "execution_count": 13,
   "metadata": {},
   "outputs": [
    {
     "name": "stdout",
     "output_type": "stream",
     "text": [
      "                            OLS Regression Results                            \n",
      "==============================================================================\n",
      "Dep. Variable:                      y   R-squared:                       0.953\n",
      "Model:                            OLS   Adj. R-squared:                  0.928\n",
      "Method:                 Least Squares   F-statistic:                     38.17\n",
      "Date:                Thu, 17 Feb 2022   Prob (F-statistic):           1.88e-10\n",
      "Time:                        14:09:56   Log-Likelihood:                -19.541\n",
      "No. Observations:                  30   AIC:                             61.08\n",
      "Df Residuals:                      19   BIC:                             76.49\n",
      "Df Model:                          10                                         \n",
      "Covariance Type:            nonrobust                                         \n",
      "==============================================================================\n",
      "                 coef    std err          t      P>|t|      [0.025      0.975]\n",
      "------------------------------------------------------------------------------\n",
      "const          7.8580      0.815      9.643      0.000       6.152       9.564\n",
      "x1             5.5945      0.553     10.122      0.000       4.438       6.751\n",
      "x2             3.1175      0.388      8.027      0.000       2.305       3.930\n",
      "x3             0.4065      0.449      0.905      0.377      -0.534       1.347\n",
      "x4             4.3705      0.444      9.850      0.000       3.442       5.299\n",
      "x5            -0.0745      0.524     -0.142      0.888      -1.171       1.022\n",
      "x6             0.1376      0.461      0.299      0.768      -0.826       1.101\n",
      "x7             0.4723      0.395      1.197      0.246      -0.354       1.298\n",
      "x8             0.9605      0.436      2.202      0.040       0.048       1.873\n",
      "x9             0.4546      0.404      1.126      0.274      -0.391       1.300\n",
      "x10            0.8251      0.431      1.916      0.071      -0.076       1.727\n",
      "==============================================================================\n",
      "Omnibus:                        0.941   Durbin-Watson:                   2.020\n",
      "Prob(Omnibus):                  0.625   Jarque-Bera (JB):                0.961\n",
      "Skew:                          -0.347   Prob(JB):                        0.618\n",
      "Kurtosis:                       2.464   Cond. No.                         18.7\n",
      "==============================================================================\n",
      "\n",
      "Notes:\n",
      "[1] Standard Errors assume that the covariance matrix of the errors is correctly specified.\n"
     ]
    }
   ],
   "source": [
    "num_obs = 30\n",
    "X = np.random.uniform(size=[num_obs, 10])\n",
    "X = sm.add_constant(X)\n",
    "y = 10 + 5*X[:,1] + 3*X[:,2] + 4*X[:,4] + np.random.normal(loc = 0, scale = 0.6, size = num_obs)\n",
    "\n",
    "model_full = sm.OLS(y, X)\n",
    "results_full = model_full.fit()\n",
    "print(results_full.summary()) ## \"Enough\""
   ]
  },
  {
   "cell_type": "code",
   "execution_count": 14,
   "metadata": {},
   "outputs": [
    {
     "name": "stdout",
     "output_type": "stream",
     "text": [
      "                            OLS Regression Results                            \n",
      "==============================================================================\n",
      "Dep. Variable:                      y   R-squared:                       0.919\n",
      "Model:                            OLS   Adj. R-squared:                  0.909\n",
      "Method:                 Least Squares   F-statistic:                     98.10\n",
      "Date:                Thu, 17 Feb 2022   Prob (F-statistic):           2.67e-14\n",
      "Time:                        14:09:57   Log-Likelihood:                -27.606\n",
      "No. Observations:                  30   AIC:                             63.21\n",
      "Df Residuals:                      26   BIC:                             68.82\n",
      "Df Model:                           3                                         \n",
      "Covariance Type:            nonrobust                                         \n",
      "==============================================================================\n",
      "                 coef    std err          t      P>|t|      [0.025      0.975]\n",
      "------------------------------------------------------------------------------\n",
      "const          9.8732      0.356     27.743      0.000       9.142      10.605\n",
      "x1             5.0008      0.521      9.593      0.000       3.929       6.072\n",
      "x2             3.1534      0.351      8.985      0.000       2.432       3.875\n",
      "x3             4.1606      0.431      9.644      0.000       3.274       5.047\n",
      "==============================================================================\n",
      "Omnibus:                        0.517   Durbin-Watson:                   1.497\n",
      "Prob(Omnibus):                  0.772   Jarque-Bera (JB):                0.422\n",
      "Skew:                           0.268   Prob(JB):                        0.810\n",
      "Kurtosis:                       2.776   Cond. No.                         6.43\n",
      "==============================================================================\n",
      "\n",
      "Notes:\n",
      "[1] Standard Errors assume that the covariance matrix of the errors is correctly specified.\n"
     ]
    }
   ],
   "source": [
    "model_reduced = sm.OLS(y, X[:,[0,1,2,4]])\n",
    "results_reduced = model_reduced.fit()\n",
    "print(results_reduced.summary())"
   ]
  },
  {
   "cell_type": "code",
   "execution_count": 15,
   "metadata": {
    "scrolled": false
   },
   "outputs": [
    {
     "name": "stdout",
     "output_type": "stream",
     "text": [
      "                            OLS Regression Results                            \n",
      "==============================================================================\n",
      "Dep. Variable:                      y   R-squared:                       0.628\n",
      "Model:                            OLS   Adj. R-squared:                  0.601\n",
      "Method:                 Least Squares   F-statistic:                     22.83\n",
      "Date:                Thu, 17 Feb 2022   Prob (F-statistic):           1.57e-06\n",
      "Time:                        14:09:57   Log-Likelihood:                -50.423\n",
      "No. Observations:                  30   AIC:                             106.8\n",
      "Df Residuals:                      27   BIC:                             111.0\n",
      "Df Model:                           2                                         \n",
      "Covariance Type:            nonrobust                                         \n",
      "==============================================================================\n",
      "                 coef    std err          t      P>|t|      [0.025      0.975]\n",
      "------------------------------------------------------------------------------\n",
      "const         11.5409      0.653     17.673      0.000      10.201      12.881\n",
      "x1             5.3144      1.092      4.865      0.000       3.073       7.556\n",
      "x2             3.6102      0.730      4.945      0.000       2.112       5.108\n",
      "==============================================================================\n",
      "Omnibus:                        2.091   Durbin-Watson:                   2.668\n",
      "Prob(Omnibus):                  0.352   Jarque-Bera (JB):                1.309\n",
      "Skew:                           0.220   Prob(JB):                        0.520\n",
      "Kurtosis:                       2.076   Cond. No.                         5.90\n",
      "==============================================================================\n",
      "\n",
      "Notes:\n",
      "[1] Standard Errors assume that the covariance matrix of the errors is correctly specified.\n"
     ]
    }
   ],
   "source": [
    "model_dropping_useful = sm.OLS(y, X[:,[0,1,2]])\n",
    "results_dropping_useful = model_dropping_useful.fit()\n",
    "print(results_dropping_useful.summary())"
   ]
  },
  {
   "cell_type": "code",
   "execution_count": 16,
   "metadata": {},
   "outputs": [
    {
     "data": {
      "text/html": [
       "<div>\n",
       "<style scoped>\n",
       "    .dataframe tbody tr th:only-of-type {\n",
       "        vertical-align: middle;\n",
       "    }\n",
       "\n",
       "    .dataframe tbody tr th {\n",
       "        vertical-align: top;\n",
       "    }\n",
       "\n",
       "    .dataframe thead th {\n",
       "        text-align: right;\n",
       "    }\n",
       "</style>\n",
       "<table border=\"1\" class=\"dataframe\">\n",
       "  <thead>\n",
       "    <tr style=\"text-align: right;\">\n",
       "      <th></th>\n",
       "      <th>df_resid</th>\n",
       "      <th>ssr</th>\n",
       "      <th>df_diff</th>\n",
       "      <th>ss_diff</th>\n",
       "      <th>F</th>\n",
       "      <th>Pr(&gt;F)</th>\n",
       "    </tr>\n",
       "  </thead>\n",
       "  <tbody>\n",
       "    <tr>\n",
       "      <th>0</th>\n",
       "      <td>26.0</td>\n",
       "      <td>11.064309</td>\n",
       "      <td>0.0</td>\n",
       "      <td>NaN</td>\n",
       "      <td>NaN</td>\n",
       "      <td>NaN</td>\n",
       "    </tr>\n",
       "    <tr>\n",
       "      <th>1</th>\n",
       "      <td>19.0</td>\n",
       "      <td>6.462638</td>\n",
       "      <td>7.0</td>\n",
       "      <td>4.601671</td>\n",
       "      <td>1.932686</td>\n",
       "      <td>0.120035</td>\n",
       "    </tr>\n",
       "  </tbody>\n",
       "</table>\n",
       "</div>"
      ],
      "text/plain": [
       "   df_resid        ssr  df_diff   ss_diff         F    Pr(>F)\n",
       "0      26.0  11.064309      0.0       NaN       NaN       NaN\n",
       "1      19.0   6.462638      7.0  4.601671  1.932686  0.120035"
      ]
     },
     "execution_count": 16,
     "metadata": {},
     "output_type": "execute_result"
    }
   ],
   "source": [
    "from statsmodels.stats.anova import anova_lm\n",
    "anova_lm(results_reduced,results_full)"
   ]
  },
  {
   "cell_type": "code",
   "execution_count": 17,
   "metadata": {},
   "outputs": [
    {
     "data": {
      "text/html": [
       "<div>\n",
       "<style scoped>\n",
       "    .dataframe tbody tr th:only-of-type {\n",
       "        vertical-align: middle;\n",
       "    }\n",
       "\n",
       "    .dataframe tbody tr th {\n",
       "        vertical-align: top;\n",
       "    }\n",
       "\n",
       "    .dataframe thead th {\n",
       "        text-align: right;\n",
       "    }\n",
       "</style>\n",
       "<table border=\"1\" class=\"dataframe\">\n",
       "  <thead>\n",
       "    <tr style=\"text-align: right;\">\n",
       "      <th></th>\n",
       "      <th>df_resid</th>\n",
       "      <th>ssr</th>\n",
       "      <th>df_diff</th>\n",
       "      <th>ss_diff</th>\n",
       "      <th>F</th>\n",
       "      <th>Pr(&gt;F)</th>\n",
       "    </tr>\n",
       "  </thead>\n",
       "  <tbody>\n",
       "    <tr>\n",
       "      <th>0</th>\n",
       "      <td>27.0</td>\n",
       "      <td>50.644207</td>\n",
       "      <td>0.0</td>\n",
       "      <td>NaN</td>\n",
       "      <td>NaN</td>\n",
       "      <td>NaN</td>\n",
       "    </tr>\n",
       "    <tr>\n",
       "      <th>1</th>\n",
       "      <td>19.0</td>\n",
       "      <td>6.462638</td>\n",
       "      <td>8.0</td>\n",
       "      <td>44.18157</td>\n",
       "      <td>16.236595</td>\n",
       "      <td>5.583027e-07</td>\n",
       "    </tr>\n",
       "  </tbody>\n",
       "</table>\n",
       "</div>"
      ],
      "text/plain": [
       "   df_resid        ssr  df_diff   ss_diff          F        Pr(>F)\n",
       "0      27.0  50.644207      0.0       NaN        NaN           NaN\n",
       "1      19.0   6.462638      8.0  44.18157  16.236595  5.583027e-07"
      ]
     },
     "execution_count": 17,
     "metadata": {},
     "output_type": "execute_result"
    }
   ],
   "source": [
    "from statsmodels.stats.anova import anova_lm\n",
    "anova_lm(results_dropping_useful, results_full)"
   ]
  },
  {
   "cell_type": "markdown",
   "metadata": {},
   "source": [
    "### Are we telling lies? Let's do it by hand"
   ]
  },
  {
   "cell_type": "code",
   "execution_count": 18,
   "metadata": {},
   "outputs": [
    {
     "name": "stdout",
     "output_type": "stream",
     "text": [
      "1.9326861486027644\n"
     ]
    }
   ],
   "source": [
    "numerator = np.sum((results_reduced.resid**2 - results_full.resid**2))/(results_reduced.df_resid- results_full.df_resid)\n",
    "denominator = np.sum((results_full.resid**2))/(results_full.df_resid)\n",
    "F_stat = numerator/denominator\n",
    "print(F_stat)"
   ]
  },
  {
   "cell_type": "code",
   "execution_count": 19,
   "metadata": {},
   "outputs": [
    {
     "data": {
      "text/plain": [
       "0.12003500454359262"
      ]
     },
     "execution_count": 19,
     "metadata": {},
     "output_type": "execute_result"
    }
   ],
   "source": [
    "from scipy.stats import f\n",
    "1-f.cdf(F_stat, (results_reduced.df_resid- results_full.df_resid), results_full.df_resid)"
   ]
  },
  {
   "cell_type": "markdown",
   "metadata": {},
   "source": [
    "### Let's go back and look at R^2 and adjusted R^2"
   ]
  },
  {
   "cell_type": "markdown",
   "metadata": {},
   "source": [
    "### Stepwise Regression (actually uses cross-validation) but the idea is the same!"
   ]
  },
  {
   "cell_type": "code",
   "execution_count": 20,
   "metadata": {},
   "outputs": [
    {
     "data": {
      "text/plain": [
       "array([ 0.        ,  5.59451695,  3.11748982,  0.40650923,  4.37045287,\n",
       "       -0.07450886,  0.13757332,  0.4723157 ,  0.96052051,  0.45461798,\n",
       "        0.82508519])"
      ]
     },
     "execution_count": 20,
     "metadata": {},
     "output_type": "execute_result"
    }
   ],
   "source": [
    "from sklearn.feature_selection import SequentialFeatureSelector\n",
    "from sklearn.linear_model import LinearRegression\n",
    "reg = LinearRegression().fit(X, y)\n",
    "reg.coef_"
   ]
  },
  {
   "cell_type": "code",
   "execution_count": 21,
   "metadata": {},
   "outputs": [
    {
     "data": {
      "text/plain": [
       "7.858010008695742"
      ]
     },
     "execution_count": 21,
     "metadata": {},
     "output_type": "execute_result"
    }
   ],
   "source": [
    "reg.intercept_"
   ]
  },
  {
   "cell_type": "code",
   "execution_count": 22,
   "metadata": {},
   "outputs": [
    {
     "data": {
      "text/plain": [
       "array([False,  True,  True, False,  True, False, False, False, False,\n",
       "       False,  True])"
      ]
     },
     "execution_count": 22,
     "metadata": {},
     "output_type": "execute_result"
    }
   ],
   "source": [
    "reg_sequential =LinearRegression()\n",
    "sfs = SequentialFeatureSelector(reg_sequential, n_features_to_select=4)\n",
    "sfs.fit(X,y)\n",
    "sfs.get_support()"
   ]
  },
  {
   "cell_type": "code",
   "execution_count": null,
   "metadata": {},
   "outputs": [],
   "source": []
  },
  {
   "cell_type": "code",
   "execution_count": null,
   "metadata": {},
   "outputs": [],
   "source": []
  }
 ],
 "metadata": {
  "kernelspec": {
   "display_name": "Python 3",
   "language": "python",
   "name": "python3"
  },
  "language_info": {
   "codemirror_mode": {
    "name": "ipython",
    "version": 3
   },
   "file_extension": ".py",
   "mimetype": "text/x-python",
   "name": "python",
   "nbconvert_exporter": "python",
   "pygments_lexer": "ipython3",
   "version": "3.8.5"
  }
 },
 "nbformat": 4,
 "nbformat_minor": 4
}
