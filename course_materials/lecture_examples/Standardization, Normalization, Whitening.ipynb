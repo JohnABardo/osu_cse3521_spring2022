{
 "cells": [
  {
   "cell_type": "code",
   "execution_count": 1,
   "metadata": {},
   "outputs": [],
   "source": [
    "import numpy as np\n",
    "from matplotlib import pyplot as plt"
   ]
  },
  {
   "cell_type": "code",
   "execution_count": 2,
   "metadata": {},
   "outputs": [],
   "source": [
    "mymat = np.array([[20,-5], [8,2], [-6,3],[6,-4]]).T #Notice the notation is different than the slides!"
   ]
  },
  {
   "cell_type": "code",
   "execution_count": 3,
   "metadata": {},
   "outputs": [
    {
     "data": {
      "text/plain": [
       "(2, 4)"
      ]
     },
     "execution_count": 3,
     "metadata": {},
     "output_type": "execute_result"
    }
   ],
   "source": [
    "mymat.shape"
   ]
  },
  {
   "cell_type": "code",
   "execution_count": 4,
   "metadata": {},
   "outputs": [
    {
     "data": {
      "text/plain": [
       "array([[20,  8, -6,  6],\n",
       "       [-5,  2,  3, -4]])"
      ]
     },
     "execution_count": 4,
     "metadata": {},
     "output_type": "execute_result"
    }
   ],
   "source": [
    "mymat"
   ]
  },
  {
   "cell_type": "code",
   "execution_count": 5,
   "metadata": {},
   "outputs": [
    {
     "data": {
      "text/plain": [
       "<matplotlib.collections.PathCollection at 0x7fc698989c40>"
      ]
     },
     "execution_count": 5,
     "metadata": {},
     "output_type": "execute_result"
    },
    {
     "data": {
      "image/png": "[encoded data removed]",
      "text/plain": [
       "<Figure size 432x288 with 1 Axes>"
      ]
     },
     "metadata": {
      "needs_background": "light"
     },
     "output_type": "display_data"
    }
   ],
   "source": [
    "plt.scatter(x = mymat[0,:], y = mymat[1,:])"
   ]
  },
  {
   "cell_type": "markdown",
   "metadata": {},
   "source": [
    "## Correlations & Covariance & Normalization & Whitening"
   ]
  },
  {
   "cell_type": "markdown",
   "metadata": {},
   "source": [
    "#### Covariance"
   ]
  },
  {
   "cell_type": "code",
   "execution_count": 6,
   "metadata": {},
   "outputs": [
    {
     "data": {
      "text/plain": [
       "array([[ 85. , -24.5],\n",
       "       [-24.5,  12.5]])"
      ]
     },
     "execution_count": 6,
     "metadata": {},
     "output_type": "execute_result"
    }
   ],
   "source": [
    "np.cov(mymat, bias = True)"
   ]
  },
  {
   "cell_type": "code",
   "execution_count": 7,
   "metadata": {},
   "outputs": [
    {
     "data": {
      "text/plain": [
       "array([[ 85. , -24.5],\n",
       "       [-24.5,  12.5]])"
      ]
     },
     "execution_count": 7,
     "metadata": {},
     "output_type": "execute_result"
    }
   ],
   "source": [
    "#Now manually!\n",
    "\n",
    "mean_values = mymat.mean(axis = 1).reshape(-1,1)\n",
    "mymat - mean_values\n",
    "np.dot((mymat-mean_values) , (mymat - mean_values).T) /4 ### Notice this is using dividing by n-1"
   ]
  },
  {
   "cell_type": "code",
   "execution_count": 8,
   "metadata": {},
   "outputs": [
    {
     "data": {
      "text/plain": [
       "array([[20,  8, -6,  6],\n",
       "       [-5,  2,  3, -4]])"
      ]
     },
     "execution_count": 8,
     "metadata": {},
     "output_type": "execute_result"
    }
   ],
   "source": [
    "mymat"
   ]
  },
  {
   "cell_type": "markdown",
   "metadata": {},
   "source": [
    "#### Correlation"
   ]
  },
  {
   "cell_type": "code",
   "execution_count": 9,
   "metadata": {},
   "outputs": [
    {
     "data": {
      "text/plain": [
       "array([[ 1.        , -0.75162569],\n",
       "       [-0.75162569,  1.        ]])"
      ]
     },
     "execution_count": 9,
     "metadata": {},
     "output_type": "execute_result"
    }
   ],
   "source": [
    "np.corrcoef(mymat)"
   ]
  },
  {
   "cell_type": "code",
   "execution_count": 10,
   "metadata": {},
   "outputs": [
    {
     "data": {
      "text/plain": [
       "0.751625689070423"
      ]
     },
     "execution_count": 10,
     "metadata": {},
     "output_type": "execute_result"
    }
   ],
   "source": [
    "24.5/(np.std(mymat[0,:]) * np.std(mymat[1,:]))"
   ]
  },
  {
   "cell_type": "markdown",
   "metadata": {},
   "source": [
    "#### Normalization"
   ]
  },
  {
   "cell_type": "code",
   "execution_count": 11,
   "metadata": {},
   "outputs": [],
   "source": [
    "from sklearn import preprocessing"
   ]
  },
  {
   "cell_type": "code",
   "execution_count": 12,
   "metadata": {},
   "outputs": [],
   "source": [
    "scaler = preprocessing.StandardScaler().fit(mymat.T) ###notice SK Learn does things in obs x features (not features x obs)\n",
    "X_scaled = scaler.transform(mymat.T)\n",
    "scaler.mean_\n",
    "scaler.scale_\n",
    "X_scaled = scaler.transform(mymat.T)"
   ]
  },
  {
   "cell_type": "code",
   "execution_count": 13,
   "metadata": {},
   "outputs": [
    {
     "data": {
      "text/plain": [
       "array([[ 1.41004798,  0.10846523, -1.41004798, -0.10846523],\n",
       "       [-1.13137085,  0.84852814,  1.13137085, -0.84852814]])"
      ]
     },
     "execution_count": 13,
     "metadata": {},
     "output_type": "execute_result"
    }
   ],
   "source": [
    "X_scaled.T"
   ]
  },
  {
   "cell_type": "code",
   "execution_count": 14,
   "metadata": {},
   "outputs": [
    {
     "data": {
      "text/plain": [
       "array([9.21954446, 3.53553391])"
      ]
     },
     "execution_count": 14,
     "metadata": {},
     "output_type": "execute_result"
    }
   ],
   "source": [
    "scaler.scale_"
   ]
  },
  {
   "cell_type": "markdown",
   "metadata": {},
   "source": [
    "#### Whitening"
   ]
  },
  {
   "cell_type": "code",
   "execution_count": 15,
   "metadata": {},
   "outputs": [
    {
     "data": {
      "text/plain": [
       "array([[0.13341427, 0.09613676],\n",
       "       [0.09613676, 0.41790059]])"
      ]
     },
     "execution_count": 15,
     "metadata": {},
     "output_type": "execute_result"
    }
   ],
   "source": [
    "from scipy.linalg import fractional_matrix_power\n",
    "sigma_half = fractional_matrix_power(np.cov(mymat, bias = True), -0.5)\n",
    "sigma_half"
   ]
  },
  {
   "cell_type": "code",
   "execution_count": 16,
   "metadata": {},
   "outputs": [
    {
     "data": {
      "text/plain": [
       "array([[ 1.34983853,  0.42182454, -1.34983853, -0.42182454],\n",
       "       [-0.42182454,  1.34983853,  0.42182454, -1.34983853]])"
      ]
     },
     "execution_count": 16,
     "metadata": {},
     "output_type": "execute_result"
    }
   ],
   "source": [
    "whitened_data = np.dot(sigma_half, mymat - mean_values)\n",
    "whitened_data"
   ]
  },
  {
   "cell_type": "code",
   "execution_count": 17,
   "metadata": {},
   "outputs": [
    {
     "data": {
      "text/plain": [
       "array([[ 1.00000000e+00, -8.26811266e-16],\n",
       "       [-8.26811266e-16,  1.00000000e+00]])"
      ]
     },
     "execution_count": 17,
     "metadata": {},
     "output_type": "execute_result"
    }
   ],
   "source": [
    "np.cov(whitened_data, bias = True) "
   ]
  },
  {
   "cell_type": "code",
   "execution_count": 723,
   "metadata": {},
   "outputs": [],
   "source": [
    "#### ZCA whitening\n",
    "#borrowed heavily from  https://stackoverflow.com/questions/31528800/how-to-implement-zca-whitening-python\n",
    "def zca_whitening_matrix(X):\n",
    "    \"\"\"\n",
    "    Function to compute ZCA whitening matrix (aka Mahalanobis whitening).\n",
    "    INPUT:  X: [M x N] matrix.\n",
    "        Rows: Variables\n",
    "        Columns: Observations\n",
    "    OUTPUT: ZCAMatrix: [M x M] matrix\n",
    "    \"\"\"\n",
    "    # Covariance matrix [column-wise variables]: Sigma = (X-mu)' * (X-mu) / N\n",
    "    sigma = np.cov(X, rowvar=True, bias = True) # [M x M]\n",
    "    # Singular Value Decomposition. X = U * np.diag(S) * V\n",
    "    U,S,V = np.linalg.svd(sigma)\n",
    "        # U: [M x M] eigenvectors of sigma.\n",
    "        # S: [M x 1] eigenvalues of sigma.\n",
    "        # V: [M x M] transpose of U\n",
    "    # Whitening constant: prevents division by zero\n",
    "    epsilon = 1e-10\n",
    "    # ZCA Whitening matrix: U * Lambda * U'\n",
    "    ZCAMatrix = np.dot(U, np.dot(np.diag(1.0/np.sqrt(S + epsilon)), U.T)) # [M x M]\n",
    "    return ZCAMatrix"
   ]
  },
  {
   "cell_type": "code",
   "execution_count": 724,
   "metadata": {},
   "outputs": [
    {
     "data": {
      "text/plain": [
       "array([[0.13341427, 0.09613676],\n",
       "       [0.09613676, 0.41790059]])"
      ]
     },
     "execution_count": 724,
     "metadata": {},
     "output_type": "execute_result"
    }
   ],
   "source": [
    "my_zca_transformer = zca_whitening_matrix(mymat)\n",
    "my_zca_transformer"
   ]
  },
  {
   "cell_type": "code",
   "execution_count": 725,
   "metadata": {},
   "outputs": [
    {
     "data": {
      "text/plain": [
       "array([[ 1.34983853,  0.42182454, -1.34983853, -0.42182454],\n",
       "       [-0.42182454,  1.34983853,  0.42182454, -1.34983853]])"
      ]
     },
     "execution_count": 725,
     "metadata": {},
     "output_type": "execute_result"
    }
   ],
   "source": [
    "\n",
    "my_zca_X = np.dot(my_zca_transformer, mymat-mean_values)\n",
    "my_zca_X"
   ]
  },
  {
   "cell_type": "code",
   "execution_count": 726,
   "metadata": {},
   "outputs": [
    {
     "data": {
      "text/plain": [
       "array([[ 1.00000000e+00, -5.30052312e-12],\n",
       "       [-5.30052312e-12,  1.00000000e+00]])"
      ]
     },
     "execution_count": 726,
     "metadata": {},
     "output_type": "execute_result"
    }
   ],
   "source": [
    "np.cov(my_zca_X, bias = True, rowvar = True) "
   ]
  },
  {
   "cell_type": "code",
   "execution_count": 727,
   "metadata": {},
   "outputs": [],
   "source": [
    "###Why people use ZCA instead for whitening. \n",
    "import cv2\n",
    "import matplotlib.pyplot as plt\n",
    "from urllib.request import urlopen, Request\n",
    "new_size = 60\n",
    "\n",
    "urls = ['https://hips.hearstapps.com/hmg-prod.s3.amazonaws.com/images/dog-puppy-on-garden-royalty-free-image-1586966191.jpg',\n",
    "        'https://dogtime.com/assets/uploads/2018/10/puppies-cover.jpg',\n",
    "         'https://www.readersdigest.ca/wp-content/uploads/2013/03/6-facts-to-know-before-owning-a-puppy.jpg',\n",
    "          'https://images.newscientist.com/wp-content/uploads/2021/06/03141753/03-june_puppies.jpg']\n",
    "\n",
    "puppies = []\n",
    "for url in urls:\n",
    "    r = Request(url, headers={'User-Agent': 'Mozilla/5.0'})\n",
    "    response = urlopen(r).read()\n",
    "    arr = np.asarray(bytearray(response), dtype=np.uint8)\n",
    "    puppies.append(cv2.imdecode(arr, 0)) # 'Load it as it is'\n",
    "\n",
    "#item_pics = [cv2.imread( './pictures/picture_'+ str(x) + '.jpeg', 0) for x in range(1,5)]\n",
    "puppies_scaled = [cv2.resize(x, [new_size,new_size], interpolation = cv2.INTER_AREA) for x in puppies]\n",
    "puppies_vectors = [x.reshape(new_size * new_size) for x in puppies_scaled]"
   ]
  },
  {
   "cell_type": "code",
   "execution_count": 728,
   "metadata": {},
   "outputs": [
    {
     "data": {
      "text/plain": [
       "<matplotlib.image.AxesImage at 0x7fc69b9a20d0>"
      ]
     },
     "execution_count": 728,
     "metadata": {},
     "output_type": "execute_result"
    },
    {
     "data": {
      "image/png": "[encoded data removed]",
      "text/plain": [
       "<Figure size 432x288 with 1 Axes>"
      ]
     },
     "metadata": {
      "needs_background": "light"
     },
     "output_type": "display_data"
    }
   ],
   "source": [
    "plt.imshow(puppies[1], cmap = \"gray\")"
   ]
  },
  {
   "cell_type": "code",
   "execution_count": 729,
   "metadata": {},
   "outputs": [
    {
     "data": {
      "text/plain": [
       "<matplotlib.image.AxesImage at 0x7fc67d2e2580>"
      ]
     },
     "execution_count": 729,
     "metadata": {},
     "output_type": "execute_result"
    },
    {
     "data": {
      "image/png": "[encoded data removed]",
      "text/plain": [
       "<Figure size 432x288 with 1 Axes>"
      ]
     },
     "metadata": {
      "needs_background": "light"
     },
     "output_type": "display_data"
    }
   ],
   "source": [
    "plt.imshow(puppies_scaled[1], cmap='gray')\n",
    "#plt.imshow(puppies_vectors [0], cmap='gray')"
   ]
  },
  {
   "cell_type": "code",
   "execution_count": 730,
   "metadata": {},
   "outputs": [
    {
     "data": {
      "text/plain": [
       "<matplotlib.image.AxesImage at 0x7fc69bfa1550>"
      ]
     },
     "execution_count": 730,
     "metadata": {},
     "output_type": "execute_result"
    },
    {
     "data": {
      "image/png": "[encoded data removed]",
      "text/plain": [
       "<Figure size 432x288 with 1 Axes>"
      ]
     },
     "metadata": {
      "needs_background": "light"
     },
     "output_type": "display_data"
    }
   ],
   "source": [
    "combined_data = np.array(puppies_vectors).T\n",
    "mean_vector = np.mean(combined_data, axis = 1)\n",
    "combined_data_no_mean = combined_data - mean_vector[:, None]\n",
    "\n",
    "plt.imshow(combined_data[:,1].reshape(new_size, new_size), cmap = \"gray\")"
   ]
  },
  {
   "cell_type": "code",
   "execution_count": 731,
   "metadata": {},
   "outputs": [
    {
     "data": {
      "text/plain": [
       "<matplotlib.image.AxesImage at 0x7fc68bdbb700>"
      ]
     },
     "execution_count": 731,
     "metadata": {},
     "output_type": "execute_result"
    },
    {
     "data": {
      "image/png": "[encoded data removed]",
      "text/plain": [
       "<Figure size 432x288 with 1 Axes>"
      ]
     },
     "metadata": {
      "needs_background": "light"
     },
     "output_type": "display_data"
    }
   ],
   "source": [
    "plt.imshow(combined_data_no_mean[:,1].reshape(new_size, new_size), cmap = \"gray\")"
   ]
  },
  {
   "cell_type": "code",
   "execution_count": 732,
   "metadata": {},
   "outputs": [],
   "source": [
    "#ZCA whitened_picture\n",
    "my_zca_transformer_image_stuff = zca_whitening_matrix(combined_data_no_mean)\n"
   ]
  },
  {
   "cell_type": "code",
   "execution_count": 733,
   "metadata": {},
   "outputs": [
    {
     "data": {
      "text/plain": [
       "<matplotlib.image.AxesImage at 0x7fc6585b1190>"
      ]
     },
     "execution_count": 733,
     "metadata": {},
     "output_type": "execute_result"
    },
    {
     "data": {
      "image/png": "[encoded data removed]",
      "text/plain": [
       "<Figure size 432x288 with 1 Axes>"
      ]
     },
     "metadata": {
      "needs_background": "light"
     },
     "output_type": "display_data"
    }
   ],
   "source": [
    "xZCAMatrix = np.dot(my_zca_transformer_image_stuff, combined_data_no_mean)\n",
    "whitened_pics = [xZCAMatrix[:,i].reshape(new_size,new_size) for i in range(len(urls))]\n",
    "plt.imshow(whitened_pics[1],  cmap='gray')\n"
   ]
  },
  {
   "cell_type": "code",
   "execution_count": 734,
   "metadata": {},
   "outputs": [
    {
     "data": {
      "text/plain": [
       "array([[4.78672248e-04, 3.75097518e-04, 3.47090930e-04, ...,\n",
       "        2.03031540e-04, 2.16823823e-04, 2.43823639e-04],\n",
       "       [3.75097518e-04, 5.27085084e-04, 5.15215754e-04, ...,\n",
       "        1.94796485e-04, 9.81631399e-05, 1.33357336e-04],\n",
       "       [3.47090930e-04, 5.15215754e-04, 5.93900827e-04, ...,\n",
       "        2.49359045e-04, 1.60362776e-04, 2.43315720e-04],\n",
       "       ...,\n",
       "       [2.03031540e-04, 1.94796485e-04, 2.49359045e-04, ...,\n",
       "        1.39184621e-04, 1.38184551e-04, 1.87529753e-04],\n",
       "       [2.16823823e-04, 9.81631399e-05, 1.60362776e-04, ...,\n",
       "        1.38184551e-04, 1.89029219e-04, 2.39892339e-04],\n",
       "       [2.43823639e-04, 1.33357336e-04, 2.43315720e-04, ...,\n",
       "        1.87529753e-04, 2.39892339e-04, 3.19963214e-04]])"
      ]
     },
     "execution_count": 734,
     "metadata": {},
     "output_type": "execute_result"
    }
   ],
   "source": [
    "np.cov(xZCAMatrix, rowvar = True, bias = True)"
   ]
  },
  {
   "cell_type": "markdown",
   "metadata": {},
   "source": [
    "## PCA"
   ]
  },
  {
   "cell_type": "markdown",
   "metadata": {},
   "source": [
    "#### Using Sklearn"
   ]
  },
  {
   "cell_type": "code",
   "execution_count": 592,
   "metadata": {},
   "outputs": [
    {
     "data": {
      "text/plain": [
       "PCA(n_components=2)"
      ]
     },
     "execution_count": 592,
     "metadata": {},
     "output_type": "execute_result"
    }
   ],
   "source": [
    "from sklearn.decomposition import PCA\n",
    "pca = PCA(n_components=2)\n",
    "pca.fit(mymat.T)"
   ]
  },
  {
   "cell_type": "code",
   "execution_count": 593,
   "metadata": {},
   "outputs": [
    {
     "name": "stdout",
     "output_type": "stream",
     "text": [
      "[0.94874725 0.05125275]\n"
     ]
    }
   ],
   "source": [
    "print(pca.explained_variance_ratio_)"
   ]
  },
  {
   "cell_type": "code",
   "execution_count": 594,
   "metadata": {},
   "outputs": [
    {
     "data": {
      "text/plain": [
       "array([[ 0.95616874, -0.29281622],\n",
       "       [ 0.29281622,  0.95616874]])"
      ]
     },
     "execution_count": 594,
     "metadata": {},
     "output_type": "execute_result"
    }
   ],
   "source": [
    "M = pca.components_\n",
    "M"
   ]
  },
  {
   "cell_type": "code",
   "execution_count": 595,
   "metadata": {
    "scrolled": true
   },
   "outputs": [
    {
     "data": {
      "text/plain": [
       "array([[ 13.60145851,  -0.01806411],\n",
       "       [  0.07772008,   3.16132244],\n",
       "       [-13.60145851,   0.01806411],\n",
       "       [ -0.07772008,  -3.16132244]])"
      ]
     },
     "execution_count": 595,
     "metadata": {},
     "output_type": "execute_result"
    }
   ],
   "source": [
    "X_pca = pca.fit_transform(mymat.T)\n",
    "X_pca"
   ]
  },
  {
   "cell_type": "markdown",
   "metadata": {},
   "source": [
    "#### PCA (by hand)"
   ]
  },
  {
   "cell_type": "code",
   "execution_count": 670,
   "metadata": {
    "scrolled": true
   },
   "outputs": [
    {
     "name": "stdout",
     "output_type": "stream",
     "text": [
      "Eigenvector: \n",
      " [[ 0.95616874  0.29281622]\n",
      " [-0.29281622  0.95616874]] \n",
      "\n",
      "Eigenvalues: \n",
      " [92.50285705  4.99714295] \n",
      "\n"
     ]
    }
   ],
   "source": [
    "## Let's do this manually\n",
    "covariance_matrix = np.cov(mymat, bias = True, rowvar = True)\n",
    "eigen_values, eigen_vectors = np.linalg.eig(covariance_matrix)\n",
    "print(\"Eigenvector: \\n\",eigen_vectors,\"\\n\")\n",
    "print(\"Eigenvalues: \\n\", eigen_values, \"\\n\")"
   ]
  },
  {
   "cell_type": "code",
   "execution_count": 671,
   "metadata": {},
   "outputs": [
    {
     "data": {
      "text/plain": [
       "array([[ 13.60145851,   0.07772008, -13.60145851,  -0.07772008],\n",
       "       [ -0.01806411,   3.16132244,   0.01806411,  -3.16132244]])"
      ]
     },
     "execution_count": 671,
     "metadata": {},
     "output_type": "execute_result"
    }
   ],
   "source": [
    "PCA_data = np.dot(eigen_vectors.T, mymat - mean_values)\n",
    "PCA_data"
   ]
  },
  {
   "cell_type": "code",
   "execution_count": 672,
   "metadata": {},
   "outputs": [
    {
     "data": {
      "text/plain": [
       "array([[ 9.25028570e+01, -1.57268334e-15],\n",
       "       [-1.57268334e-15,  4.99714295e+00]])"
      ]
     },
     "execution_count": 672,
     "metadata": {},
     "output_type": "execute_result"
    }
   ],
   "source": [
    "### What about the correlations?\n",
    "np.cov(PCA_data, rowvar = True, bias = True)"
   ]
  },
  {
   "cell_type": "code",
   "execution_count": 673,
   "metadata": {
    "scrolled": true
   },
   "outputs": [
    {
     "data": {
      "text/plain": [
       "<matplotlib.collections.PathCollection at 0x7fc66e6e7d90>"
      ]
     },
     "execution_count": 673,
     "metadata": {},
     "output_type": "execute_result"
    },
    {
     "data": {
      "image/png": "[encoded data removed]",
      "text/plain": [
       "<Figure size 432x288 with 1 Axes>"
      ]
     },
     "metadata": {
      "needs_background": "light"
     },
     "output_type": "display_data"
    }
   ],
   "source": [
    "plt.scatter(x = PCA_data[0,:], y = PCA_data[1,:]) # does the above picture make sense?"
   ]
  },
  {
   "cell_type": "markdown",
   "metadata": {},
   "source": [
    "#### PCA by hand (on puppies)"
   ]
  },
  {
   "cell_type": "code",
   "execution_count": 674,
   "metadata": {},
   "outputs": [
    {
     "name": "stdout",
     "output_type": "stream",
     "text": [
      "Eigenvector: \n",
      " [[ 1.66143176e-02+0.00000000e+00j -1.41790126e-02+0.00000000e+00j\n",
      "  -1.26195059e-03+0.00000000e+00j ...  4.44284060e-17+2.55369502e-17j\n",
      "   8.35110459e-17+9.84505780e-17j  8.35110459e-17-9.84505780e-17j]\n",
      " [ 1.75427032e-02+0.00000000e+00j -4.64715511e-03+0.00000000e+00j\n",
      "  -1.40621149e-02+0.00000000e+00j ... -3.42845035e-16+6.38677147e-17j\n",
      "  -6.01301410e-16-4.71486943e-16j -6.01301410e-16+4.71486943e-16j]\n",
      " [ 1.13171180e-02+0.00000000e+00j -9.49320759e-03+0.00000000e+00j\n",
      "  -1.93830426e-02+0.00000000e+00j ... -3.75847349e-16+6.50533814e-17j\n",
      "  -6.27339256e-16-4.77681433e-16j -6.27339256e-16+4.77681433e-16j]\n",
      " ...\n",
      " [ 3.74285534e-03+0.00000000e+00j -9.39237953e-03+0.00000000e+00j\n",
      "  -6.07937712e-03+0.00000000e+00j ...  2.93207307e-14-4.01646890e-15j\n",
      "   4.28777024e-14+2.80675096e-14j  4.28777024e-14-2.80675096e-14j]\n",
      " [ 1.33109480e-03+0.00000000e+00j -1.36604622e-02+0.00000000e+00j\n",
      "  -8.05705127e-04+0.00000000e+00j ...  1.15743545e-15+6.69861136e-16j\n",
      "   1.46444603e-15+1.04838126e-15j  1.46444603e-15-1.04838126e-15j]\n",
      " [-4.60555436e-04+0.00000000e+00j -1.73509132e-02+0.00000000e+00j\n",
      "  -4.32398848e-03+0.00000000e+00j ...  2.14932992e-14-4.07686980e-15j\n",
      "   3.24977555e-14+2.08211430e-14j  3.24977555e-14-2.08211430e-14j]] \n",
      "\n",
      "Eigenvalues: \n",
      " [3.26497084e+06+0.00000000e+00j 1.31722685e+06+0.00000000e+00j\n",
      " 1.01625538e+06+0.00000000e+00j ... 3.24745356e-29-8.84334982e-29j\n",
      " 8.25421176e-29+1.01295163e-28j 8.25421176e-29-1.01295163e-28j] \n",
      "\n"
     ]
    }
   ],
   "source": [
    "covariance_matrix = np.cov(combined_data, bias = True, rowvar = True)\n",
    "eigen_values, eigen_vectors = np.linalg.eig(covariance_matrix)\n",
    "print(\"Eigenvector: \\n\",eigen_vectors,\"\\n\")\n",
    "print(\"Eigenvalues: \\n\", eigen_values, \"\\n\")"
   ]
  },
  {
   "cell_type": "markdown",
   "metadata": {},
   "source": [
    "#### PCA completely changes the basis"
   ]
  },
  {
   "cell_type": "code",
   "execution_count": 679,
   "metadata": {},
   "outputs": [
    {
     "data": {
      "text/plain": [
       "array([[-2.91567711e+02, -1.72213016e+03,  3.00455384e+03,\n",
       "        -9.90855973e+02],\n",
       "       [ 1.47723234e+03, -1.55250529e+03, -5.42702346e+02,\n",
       "         6.17975298e+02],\n",
       "       [ 1.15702272e+03,  5.15848059e+02, -1.08090548e+02,\n",
       "        -1.56478023e+03],\n",
       "       ...,\n",
       "       [-2.85438351e-15,  4.48365223e-15,  1.62962202e-15,\n",
       "         1.82800636e-16],\n",
       "       [ 3.30972094e-15,  2.14772275e-14, -9.31385846e-15,\n",
       "         1.51332231e-15],\n",
       "       [ 3.30972094e-15,  2.14772275e-14, -9.31385846e-15,\n",
       "         1.51332231e-15]])"
      ]
     },
     "execution_count": 679,
     "metadata": {},
     "output_type": "execute_result"
    }
   ],
   "source": [
    "PCA_data = np.dot(eigen_vectors.T, combined_data_no_mean).real\n",
    "PCA_data"
   ]
  },
  {
   "cell_type": "code",
   "execution_count": 680,
   "metadata": {},
   "outputs": [
    {
     "data": {
      "text/plain": [
       "<matplotlib.image.AxesImage at 0x7fc67d8c0ee0>"
      ]
     },
     "execution_count": 680,
     "metadata": {},
     "output_type": "execute_result"
    },
    {
     "data": {
      "image/png": "[encoded data removed]",
      "text/plain": [
       "<Figure size 432x288 with 1 Axes>"
      ]
     },
     "metadata": {
      "needs_background": "light"
     },
     "output_type": "display_data"
    }
   ],
   "source": [
    "pca_pics = [PCA_data[:,i].reshape(new_size,new_size) for i in range(len(urls))]\n",
    "plt.imshow(pca_pics[3],  cmap='gray')"
   ]
  },
  {
   "cell_type": "code",
   "execution_count": 665,
   "metadata": {},
   "outputs": [],
   "source": [
    "# more information:\n",
    "#https://stats.stackexchange.com/questions/117427/what-is-the-difference-between-zca-whitening-and-pca-whitening"
   ]
  },
  {
   "cell_type": "code",
   "execution_count": 683,
   "metadata": {},
   "outputs": [
    {
     "data": {
      "text/plain": [
       "array([[ 3.26497084e+06,  6.65967949e-10, -3.86001889e-11, ...,\n",
       "        -5.43507165e-13, -1.68587656e-11, -1.68587656e-11],\n",
       "       [ 6.65967949e-10,  1.31722685e+06,  2.75627491e-10, ...,\n",
       "        -2.98722872e-12, -5.61610848e-12, -5.61610848e-12],\n",
       "       [-3.86001889e-11,  2.75627491e-10,  1.01625538e+06, ...,\n",
       "        -3.62973204e-13,  3.38678292e-12,  3.38678292e-12],\n",
       "       ...,\n",
       "       [-5.43507165e-13, -2.98722872e-12, -3.62973204e-13, ...,\n",
       "         6.99460416e-30,  1.43330691e-29,  1.43330691e-29],\n",
       "       [-1.68587656e-11, -5.61610848e-12,  3.38678292e-12, ...,\n",
       "         1.43330691e-29,  1.22282277e-28,  1.22282277e-28],\n",
       "       [-1.68587656e-11, -5.61610848e-12,  3.38678292e-12, ...,\n",
       "         1.43330691e-29,  1.22282277e-28,  1.22282277e-28]])"
      ]
     },
     "execution_count": 683,
     "metadata": {},
     "output_type": "execute_result"
    }
   ],
   "source": [
    "np.cov(PCA_data, rowvar= True, bias = True)"
   ]
  },
  {
   "cell_type": "code",
   "execution_count": null,
   "metadata": {},
   "outputs": [],
   "source": []
  }
 ],
 "metadata": {
  "kernelspec": {
   "display_name": "Python 3",
   "language": "python",
   "name": "python3"
  },
  "language_info": {
   "codemirror_mode": {
    "name": "ipython",
    "version": 3
   },
   "file_extension": ".py",
   "mimetype": "text/x-python",
   "name": "python",
   "nbconvert_exporter": "python",
   "pygments_lexer": "ipython3",
   "version": "3.8.5"
  }
 },
 "nbformat": 4,
 "nbformat_minor": 4
}
