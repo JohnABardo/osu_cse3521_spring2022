{
 "cells": [
  {
   "cell_type": "code",
   "execution_count": 2,
   "metadata": {},
   "outputs": [],
   "source": [
    "import numpy as np\n",
    "import pandas as pd\n",
    "import statsmodels.api as sm"
   ]
  },
  {
   "cell_type": "code",
   "execution_count": 3,
   "metadata": {},
   "outputs": [],
   "source": [
    "raw_data = pd.read_csv(\"./data/BP_Data.csv\")"
   ]
  },
  {
   "cell_type": "code",
   "execution_count": 4,
   "metadata": {},
   "outputs": [
    {
     "data": {
      "text/html": [
       "<div>\n",
       "<style scoped>\n",
       "    .dataframe tbody tr th:only-of-type {\n",
       "        vertical-align: middle;\n",
       "    }\n",
       "\n",
       "    .dataframe tbody tr th {\n",
       "        vertical-align: top;\n",
       "    }\n",
       "\n",
       "    .dataframe thead th {\n",
       "        text-align: right;\n",
       "    }\n",
       "</style>\n",
       "<table border=\"1\" class=\"dataframe\">\n",
       "  <thead>\n",
       "    <tr style=\"text-align: right;\">\n",
       "      <th></th>\n",
       "      <th>Age</th>\n",
       "      <th>Weight</th>\n",
       "      <th>Height</th>\n",
       "      <th>Pulse</th>\n",
       "      <th>Systol</th>\n",
       "      <th>Diastol</th>\n",
       "    </tr>\n",
       "  </thead>\n",
       "  <tbody>\n",
       "    <tr>\n",
       "      <th>0</th>\n",
       "      <td>21</td>\n",
       "      <td>71.0</td>\n",
       "      <td>1629</td>\n",
       "      <td>88</td>\n",
       "      <td>170</td>\n",
       "      <td>76</td>\n",
       "    </tr>\n",
       "    <tr>\n",
       "      <th>1</th>\n",
       "      <td>22</td>\n",
       "      <td>56.5</td>\n",
       "      <td>1569</td>\n",
       "      <td>64</td>\n",
       "      <td>120</td>\n",
       "      <td>60</td>\n",
       "    </tr>\n",
       "    <tr>\n",
       "      <th>2</th>\n",
       "      <td>24</td>\n",
       "      <td>56.0</td>\n",
       "      <td>1561</td>\n",
       "      <td>68</td>\n",
       "      <td>125</td>\n",
       "      <td>75</td>\n",
       "    </tr>\n",
       "    <tr>\n",
       "      <th>3</th>\n",
       "      <td>24</td>\n",
       "      <td>61.0</td>\n",
       "      <td>1619</td>\n",
       "      <td>52</td>\n",
       "      <td>148</td>\n",
       "      <td>120</td>\n",
       "    </tr>\n",
       "    <tr>\n",
       "      <th>4</th>\n",
       "      <td>25</td>\n",
       "      <td>65.0</td>\n",
       "      <td>1566</td>\n",
       "      <td>72</td>\n",
       "      <td>140</td>\n",
       "      <td>78</td>\n",
       "    </tr>\n",
       "    <tr>\n",
       "      <th>5</th>\n",
       "      <td>27</td>\n",
       "      <td>62.0</td>\n",
       "      <td>1639</td>\n",
       "      <td>72</td>\n",
       "      <td>106</td>\n",
       "      <td>72</td>\n",
       "    </tr>\n",
       "    <tr>\n",
       "      <th>6</th>\n",
       "      <td>28</td>\n",
       "      <td>53.0</td>\n",
       "      <td>1494</td>\n",
       "      <td>64</td>\n",
       "      <td>120</td>\n",
       "      <td>76</td>\n",
       "    </tr>\n",
       "    <tr>\n",
       "      <th>7</th>\n",
       "      <td>28</td>\n",
       "      <td>53.0</td>\n",
       "      <td>1568</td>\n",
       "      <td>80</td>\n",
       "      <td>108</td>\n",
       "      <td>62</td>\n",
       "    </tr>\n",
       "    <tr>\n",
       "      <th>8</th>\n",
       "      <td>31</td>\n",
       "      <td>65.0</td>\n",
       "      <td>1540</td>\n",
       "      <td>76</td>\n",
       "      <td>124</td>\n",
       "      <td>70</td>\n",
       "    </tr>\n",
       "    <tr>\n",
       "      <th>9</th>\n",
       "      <td>32</td>\n",
       "      <td>57.0</td>\n",
       "      <td>1530</td>\n",
       "      <td>60</td>\n",
       "      <td>134</td>\n",
       "      <td>64</td>\n",
       "    </tr>\n",
       "    <tr>\n",
       "      <th>10</th>\n",
       "      <td>33</td>\n",
       "      <td>66.5</td>\n",
       "      <td>1622</td>\n",
       "      <td>68</td>\n",
       "      <td>116</td>\n",
       "      <td>76</td>\n",
       "    </tr>\n",
       "    <tr>\n",
       "      <th>11</th>\n",
       "      <td>33</td>\n",
       "      <td>59.1</td>\n",
       "      <td>1486</td>\n",
       "      <td>72</td>\n",
       "      <td>114</td>\n",
       "      <td>74</td>\n",
       "    </tr>\n",
       "    <tr>\n",
       "      <th>12</th>\n",
       "      <td>34</td>\n",
       "      <td>64.0</td>\n",
       "      <td>1578</td>\n",
       "      <td>88</td>\n",
       "      <td>130</td>\n",
       "      <td>80</td>\n",
       "    </tr>\n",
       "    <tr>\n",
       "      <th>13</th>\n",
       "      <td>35</td>\n",
       "      <td>69.5</td>\n",
       "      <td>1645</td>\n",
       "      <td>60</td>\n",
       "      <td>118</td>\n",
       "      <td>68</td>\n",
       "    </tr>\n",
       "    <tr>\n",
       "      <th>14</th>\n",
       "      <td>35</td>\n",
       "      <td>64.0</td>\n",
       "      <td>1648</td>\n",
       "      <td>60</td>\n",
       "      <td>138</td>\n",
       "      <td>78</td>\n",
       "    </tr>\n",
       "    <tr>\n",
       "      <th>15</th>\n",
       "      <td>36</td>\n",
       "      <td>56.5</td>\n",
       "      <td>1521</td>\n",
       "      <td>72</td>\n",
       "      <td>134</td>\n",
       "      <td>86</td>\n",
       "    </tr>\n",
       "    <tr>\n",
       "      <th>16</th>\n",
       "      <td>36</td>\n",
       "      <td>57.0</td>\n",
       "      <td>1547</td>\n",
       "      <td>84</td>\n",
       "      <td>120</td>\n",
       "      <td>70</td>\n",
       "    </tr>\n",
       "    <tr>\n",
       "      <th>17</th>\n",
       "      <td>37</td>\n",
       "      <td>55.0</td>\n",
       "      <td>1505</td>\n",
       "      <td>64</td>\n",
       "      <td>120</td>\n",
       "      <td>76</td>\n",
       "    </tr>\n",
       "    <tr>\n",
       "      <th>18</th>\n",
       "      <td>37</td>\n",
       "      <td>57.0</td>\n",
       "      <td>1473</td>\n",
       "      <td>72</td>\n",
       "      <td>114</td>\n",
       "      <td>80</td>\n",
       "    </tr>\n",
       "    <tr>\n",
       "      <th>19</th>\n",
       "      <td>38</td>\n",
       "      <td>58.0</td>\n",
       "      <td>1538</td>\n",
       "      <td>64</td>\n",
       "      <td>124</td>\n",
       "      <td>64</td>\n",
       "    </tr>\n",
       "    <tr>\n",
       "      <th>20</th>\n",
       "      <td>38</td>\n",
       "      <td>59.5</td>\n",
       "      <td>1513</td>\n",
       "      <td>80</td>\n",
       "      <td>114</td>\n",
       "      <td>66</td>\n",
       "    </tr>\n",
       "    <tr>\n",
       "      <th>21</th>\n",
       "      <td>38</td>\n",
       "      <td>61.0</td>\n",
       "      <td>1653</td>\n",
       "      <td>76</td>\n",
       "      <td>136</td>\n",
       "      <td>78</td>\n",
       "    </tr>\n",
       "    <tr>\n",
       "      <th>22</th>\n",
       "      <td>38</td>\n",
       "      <td>57.0</td>\n",
       "      <td>1566</td>\n",
       "      <td>60</td>\n",
       "      <td>126</td>\n",
       "      <td>72</td>\n",
       "    </tr>\n",
       "    <tr>\n",
       "      <th>23</th>\n",
       "      <td>39</td>\n",
       "      <td>57.5</td>\n",
       "      <td>1580</td>\n",
       "      <td>64</td>\n",
       "      <td>124</td>\n",
       "      <td>62</td>\n",
       "    </tr>\n",
       "    <tr>\n",
       "      <th>24</th>\n",
       "      <td>39</td>\n",
       "      <td>74.0</td>\n",
       "      <td>1647</td>\n",
       "      <td>64</td>\n",
       "      <td>128</td>\n",
       "      <td>84</td>\n",
       "    </tr>\n",
       "    <tr>\n",
       "      <th>25</th>\n",
       "      <td>39</td>\n",
       "      <td>72.0</td>\n",
       "      <td>1620</td>\n",
       "      <td>68</td>\n",
       "      <td>134</td>\n",
       "      <td>92</td>\n",
       "    </tr>\n",
       "    <tr>\n",
       "      <th>26</th>\n",
       "      <td>41</td>\n",
       "      <td>62.5</td>\n",
       "      <td>1637</td>\n",
       "      <td>76</td>\n",
       "      <td>112</td>\n",
       "      <td>80</td>\n",
       "    </tr>\n",
       "    <tr>\n",
       "      <th>27</th>\n",
       "      <td>41</td>\n",
       "      <td>68.0</td>\n",
       "      <td>1528</td>\n",
       "      <td>60</td>\n",
       "      <td>128</td>\n",
       "      <td>82</td>\n",
       "    </tr>\n",
       "    <tr>\n",
       "      <th>28</th>\n",
       "      <td>41</td>\n",
       "      <td>63.4</td>\n",
       "      <td>1647</td>\n",
       "      <td>76</td>\n",
       "      <td>134</td>\n",
       "      <td>92</td>\n",
       "    </tr>\n",
       "    <tr>\n",
       "      <th>29</th>\n",
       "      <td>42</td>\n",
       "      <td>68.0</td>\n",
       "      <td>1605</td>\n",
       "      <td>88</td>\n",
       "      <td>128</td>\n",
       "      <td>90</td>\n",
       "    </tr>\n",
       "    <tr>\n",
       "      <th>30</th>\n",
       "      <td>43</td>\n",
       "      <td>69.0</td>\n",
       "      <td>1625</td>\n",
       "      <td>72</td>\n",
       "      <td>140</td>\n",
       "      <td>72</td>\n",
       "    </tr>\n",
       "    <tr>\n",
       "      <th>31</th>\n",
       "      <td>43</td>\n",
       "      <td>73.0</td>\n",
       "      <td>1615</td>\n",
       "      <td>68</td>\n",
       "      <td>138</td>\n",
       "      <td>74</td>\n",
       "    </tr>\n",
       "    <tr>\n",
       "      <th>32</th>\n",
       "      <td>43</td>\n",
       "      <td>64.0</td>\n",
       "      <td>1640</td>\n",
       "      <td>60</td>\n",
       "      <td>118</td>\n",
       "      <td>66</td>\n",
       "    </tr>\n",
       "    <tr>\n",
       "      <th>33</th>\n",
       "      <td>44</td>\n",
       "      <td>65.0</td>\n",
       "      <td>1610</td>\n",
       "      <td>74</td>\n",
       "      <td>110</td>\n",
       "      <td>70</td>\n",
       "    </tr>\n",
       "    <tr>\n",
       "      <th>34</th>\n",
       "      <td>44</td>\n",
       "      <td>71.0</td>\n",
       "      <td>1572</td>\n",
       "      <td>72</td>\n",
       "      <td>142</td>\n",
       "      <td>84</td>\n",
       "    </tr>\n",
       "    <tr>\n",
       "      <th>35</th>\n",
       "      <td>45</td>\n",
       "      <td>60.2</td>\n",
       "      <td>1534</td>\n",
       "      <td>56</td>\n",
       "      <td>134</td>\n",
       "      <td>70</td>\n",
       "    </tr>\n",
       "    <tr>\n",
       "      <th>36</th>\n",
       "      <td>47</td>\n",
       "      <td>55.0</td>\n",
       "      <td>1536</td>\n",
       "      <td>64</td>\n",
       "      <td>116</td>\n",
       "      <td>54</td>\n",
       "    </tr>\n",
       "    <tr>\n",
       "      <th>37</th>\n",
       "      <td>50</td>\n",
       "      <td>70.0</td>\n",
       "      <td>1630</td>\n",
       "      <td>72</td>\n",
       "      <td>132</td>\n",
       "      <td>90</td>\n",
       "    </tr>\n",
       "    <tr>\n",
       "      <th>38</th>\n",
       "      <td>54</td>\n",
       "      <td>87.0</td>\n",
       "      <td>1542</td>\n",
       "      <td>92</td>\n",
       "      <td>152</td>\n",
       "      <td>88</td>\n",
       "    </tr>\n",
       "  </tbody>\n",
       "</table>\n",
       "</div>"
      ],
      "text/plain": [
       "    Age  Weight  Height  Pulse  Systol  Diastol\n",
       "0    21    71.0    1629     88     170       76\n",
       "1    22    56.5    1569     64     120       60\n",
       "2    24    56.0    1561     68     125       75\n",
       "3    24    61.0    1619     52     148      120\n",
       "4    25    65.0    1566     72     140       78\n",
       "5    27    62.0    1639     72     106       72\n",
       "6    28    53.0    1494     64     120       76\n",
       "7    28    53.0    1568     80     108       62\n",
       "8    31    65.0    1540     76     124       70\n",
       "9    32    57.0    1530     60     134       64\n",
       "10   33    66.5    1622     68     116       76\n",
       "11   33    59.1    1486     72     114       74\n",
       "12   34    64.0    1578     88     130       80\n",
       "13   35    69.5    1645     60     118       68\n",
       "14   35    64.0    1648     60     138       78\n",
       "15   36    56.5    1521     72     134       86\n",
       "16   36    57.0    1547     84     120       70\n",
       "17   37    55.0    1505     64     120       76\n",
       "18   37    57.0    1473     72     114       80\n",
       "19   38    58.0    1538     64     124       64\n",
       "20   38    59.5    1513     80     114       66\n",
       "21   38    61.0    1653     76     136       78\n",
       "22   38    57.0    1566     60     126       72\n",
       "23   39    57.5    1580     64     124       62\n",
       "24   39    74.0    1647     64     128       84\n",
       "25   39    72.0    1620     68     134       92\n",
       "26   41    62.5    1637     76     112       80\n",
       "27   41    68.0    1528     60     128       82\n",
       "28   41    63.4    1647     76     134       92\n",
       "29   42    68.0    1605     88     128       90\n",
       "30   43    69.0    1625     72     140       72\n",
       "31   43    73.0    1615     68     138       74\n",
       "32   43    64.0    1640     60     118       66\n",
       "33   44    65.0    1610     74     110       70\n",
       "34   44    71.0    1572     72     142       84\n",
       "35   45    60.2    1534     56     134       70\n",
       "36   47    55.0    1536     64     116       54\n",
       "37   50    70.0    1630     72     132       90\n",
       "38   54    87.0    1542     92     152       88"
      ]
     },
     "execution_count": 4,
     "metadata": {},
     "output_type": "execute_result"
    }
   ],
   "source": [
    "raw_data"
   ]
  },
  {
   "cell_type": "code",
   "execution_count": 5,
   "metadata": {},
   "outputs": [
    {
     "data": {
      "text/plain": [
       "(39, 6)"
      ]
     },
     "execution_count": 5,
     "metadata": {},
     "output_type": "execute_result"
    }
   ],
   "source": [
    "raw_data.shape"
   ]
  },
  {
   "cell_type": "markdown",
   "metadata": {},
   "source": [
    "# Simple Linear Regression"
   ]
  },
  {
   "cell_type": "code",
   "execution_count": 6,
   "metadata": {},
   "outputs": [],
   "source": [
    "X = raw_data['Weight']\n",
    "X = sm.add_constant(X)\n",
    "y = raw_data['Systol']"
   ]
  },
  {
   "cell_type": "code",
   "execution_count": 7,
   "metadata": {},
   "outputs": [
    {
     "name": "stdout",
     "output_type": "stream",
     "text": [
      "                            OLS Regression Results                            \n",
      "==============================================================================\n",
      "Dep. Variable:                 Systol   R-squared:                       0.272\n",
      "Model:                            OLS   Adj. R-squared:                  0.252\n",
      "Method:                 Least Squares   F-statistic:                     13.81\n",
      "Date:                Tue, 15 Feb 2022   Prob (F-statistic):           0.000665\n",
      "Time:                        23:11:00   Log-Likelihood:                -149.01\n",
      "No. Observations:                  39   AIC:                             302.0\n",
      "Df Residuals:                      37   BIC:                             305.3\n",
      "Df Model:                           1                                         \n",
      "Covariance Type:            nonrobust                                         \n",
      "==============================================================================\n",
      "                 coef    std err          t      P>|t|      [0.025      0.975]\n",
      "------------------------------------------------------------------------------\n",
      "const         66.5969     16.464      4.045      0.000      33.238      99.956\n",
      "Weight         0.9629      0.259      3.716      0.001       0.438       1.488\n",
      "==============================================================================\n",
      "Omnibus:                        5.876   Durbin-Watson:                   1.787\n",
      "Prob(Omnibus):                  0.053   Jarque-Bera (JB):                4.604\n",
      "Skew:                           0.633   Prob(JB):                        0.100\n",
      "Kurtosis:                       4.109   Cond. No.                         576.\n",
      "==============================================================================\n",
      "\n",
      "Notes:\n",
      "[1] Standard Errors assume that the covariance matrix of the errors is correctly specified.\n"
     ]
    }
   ],
   "source": [
    "model = sm.OLS(y, X)\n",
    "results = model.fit()\n",
    "print(results.summary())"
   ]
  },
  {
   "cell_type": "markdown",
   "metadata": {},
   "source": [
    "# Multiple Linear Regression"
   ]
  },
  {
   "cell_type": "code",
   "execution_count": 8,
   "metadata": {},
   "outputs": [
    {
     "name": "stdout",
     "output_type": "stream",
     "text": [
      "                            OLS Regression Results                            \n",
      "==============================================================================\n",
      "Dep. Variable:                 Systol   R-squared:                       0.337\n",
      "Model:                            OLS   Adj. R-squared:                  0.259\n",
      "Method:                 Least Squares   F-statistic:                     4.324\n",
      "Date:                Tue, 15 Feb 2022   Prob (F-statistic):            0.00619\n",
      "Time:                        23:11:00   Log-Likelihood:                -147.17\n",
      "No. Observations:                  39   AIC:                             304.3\n",
      "Df Residuals:                      34   BIC:                             312.7\n",
      "Df Model:                           4                                         \n",
      "Covariance Type:            nonrobust                                         \n",
      "==============================================================================\n",
      "                 coef    std err          t      P>|t|      [0.025      0.975]\n",
      "------------------------------------------------------------------------------\n",
      "const        100.1172     59.699      1.677      0.103     -21.205     221.440\n",
      "Age           -0.4874      0.269     -1.813      0.079      -1.034       0.059\n",
      "Weight         1.2880      0.345      3.728      0.001       0.586       1.990\n",
      "Height        -0.0195      0.040     -0.488      0.629      -0.101       0.062\n",
      "Pulse         -0.0765      0.206     -0.371      0.713      -0.495       0.342\n",
      "==============================================================================\n",
      "Omnibus:                        0.100   Durbin-Watson:                   1.902\n",
      "Prob(Omnibus):                  0.951   Jarque-Bera (JB):                0.055\n",
      "Skew:                           0.064   Prob(JB):                        0.973\n",
      "Kurtosis:                       2.867   Cond. No.                     5.23e+04\n",
      "==============================================================================\n",
      "\n",
      "Notes:\n",
      "[1] Standard Errors assume that the covariance matrix of the errors is correctly specified.\n",
      "[2] The condition number is large, 5.23e+04. This might indicate that there are\n",
      "strong multicollinearity or other numerical problems.\n"
     ]
    }
   ],
   "source": [
    "X = raw_data[['Age','Weight','Height','Pulse']]\n",
    "X = sm.add_constant(X)\n",
    "y = raw_data['Systol']\n",
    "\n",
    "model = sm.OLS(y, X)\n",
    "results = model.fit()\n",
    "print(results.summary())"
   ]
  },
  {
   "cell_type": "markdown",
   "metadata": {},
   "source": [
    "## But have we been doing lies? No."
   ]
  },
  {
   "cell_type": "code",
   "execution_count": 9,
   "metadata": {},
   "outputs": [
    {
     "data": {
      "text/plain": [
       "array([ 1.00117217e+02, -4.87384697e-01,  1.28796234e+00, -1.95478783e-02,\n",
       "       -7.65273076e-02])"
      ]
     },
     "execution_count": 9,
     "metadata": {},
     "output_type": "execute_result"
    }
   ],
   "source": [
    "manual_beta = np.dot(np.dot(np.linalg.inv(np.dot(X.T, X)), X.T), y)\n",
    "manual_beta"
   ]
  },
  {
   "cell_type": "code",
   "execution_count": 10,
   "metadata": {},
   "outputs": [],
   "source": [
    "error_terms = y - np.dot(X, manual_beta)"
   ]
  },
  {
   "cell_type": "code",
   "execution_count": 11,
   "metadata": {},
   "outputs": [
    {
     "data": {
      "text/plain": [
       "127.3244704089468"
      ]
     },
     "execution_count": 11,
     "metadata": {},
     "output_type": "execute_result"
    }
   ],
   "source": [
    "sigma2 = np.var(error_terms, ddof = 5)\n",
    "sigma2"
   ]
  },
  {
   "cell_type": "code",
   "execution_count": 12,
   "metadata": {},
   "outputs": [
    {
     "data": {
      "text/plain": [
       "array([5.96987115e+01, 2.68839075e-01, 3.45468570e-01, 4.00630207e-02,\n",
       "       2.06015043e-01])"
      ]
     },
     "execution_count": 12,
     "metadata": {},
     "output_type": "execute_result"
    }
   ],
   "source": [
    "cov_beta = np.linalg.inv(np.dot(X.T, X))*sigma2\n",
    "var_beta = np.diag(cov_beta)\n",
    "np.sqrt(var_beta)"
   ]
  },
  {
   "cell_type": "markdown",
   "metadata": {},
   "source": [
    "## Enough Monkey's on Enough Typewriters...gives you \"The Moon is a Harsh Mistress\" and \"LOTR\" at the same time!"
   ]
  },
  {
   "cell_type": "code",
   "execution_count": 13,
   "metadata": {},
   "outputs": [
    {
     "name": "stdout",
     "output_type": "stream",
     "text": [
      "                            OLS Regression Results                            \n",
      "==============================================================================\n",
      "Dep. Variable:                      y   R-squared:                       0.104\n",
      "Model:                            OLS   Adj. R-squared:                  0.005\n",
      "Method:                 Least Squares   F-statistic:                     1.053\n",
      "Date:                Tue, 15 Feb 2022   Prob (F-statistic):              0.349\n",
      "Time:                        23:11:02   Log-Likelihood:                -1342.8\n",
      "No. Observations:                1000   AIC:                             2886.\n",
      "Df Residuals:                     900   BIC:                             3376.\n",
      "Df Model:                          99                                         \n",
      "Covariance Type:            nonrobust                                         \n",
      "==============================================================================\n",
      "                 coef    std err          t      P>|t|      [0.025      0.975]\n",
      "------------------------------------------------------------------------------\n",
      "const         -0.0324      0.033     -0.984      0.325      -0.097       0.032\n",
      "x1            -0.0091      0.031     -0.293      0.770      -0.070       0.052\n",
      "x2             0.0537      0.032      1.680      0.093      -0.009       0.116\n",
      "x3            -0.0353      0.033     -1.063      0.288      -0.100       0.030\n",
      "x4             0.0100      0.032      0.310      0.756      -0.053       0.073\n",
      "x5             0.0197      0.034      0.587      0.557      -0.046       0.085\n",
      "x6             0.0029      0.033      0.090      0.929      -0.061       0.067\n",
      "x7            -0.0006      0.033     -0.019      0.985      -0.065       0.063\n",
      "x8             0.0289      0.033      0.885      0.376      -0.035       0.093\n",
      "x9             0.0390      0.032      1.214      0.225      -0.024       0.102\n",
      "x10           -0.0356      0.033     -1.081      0.280      -0.100       0.029\n",
      "x11            0.0212      0.032      0.653      0.514      -0.042       0.085\n",
      "x12            0.0678      0.033      2.075      0.038       0.004       0.132\n",
      "x13           -0.0597      0.032     -1.880      0.060      -0.122       0.003\n",
      "x14            0.0576      0.034      1.716      0.087      -0.008       0.123\n",
      "x15            0.0444      0.032      1.390      0.165      -0.018       0.107\n",
      "x16            0.0439      0.032      1.378      0.168      -0.019       0.106\n",
      "x17           -0.0761      0.032     -2.368      0.018      -0.139      -0.013\n",
      "x18            0.0268      0.032      0.850      0.396      -0.035       0.089\n",
      "x19           -0.0218      0.033     -0.665      0.506      -0.086       0.043\n",
      "x20            0.0147      0.033      0.447      0.655      -0.050       0.079\n",
      "x21            0.0148      0.031      0.471      0.638      -0.047       0.076\n",
      "x22           -0.0160      0.033     -0.490      0.625      -0.080       0.048\n",
      "x23           -0.0012      0.033     -0.037      0.970      -0.066       0.064\n",
      "x24           -0.0246      0.032     -0.778      0.437      -0.086       0.037\n",
      "x25           -0.0267      0.032     -0.824      0.410      -0.090       0.037\n",
      "x26            0.0036      0.032      0.112      0.911      -0.060       0.067\n",
      "x27            0.0109      0.033      0.333      0.740      -0.054       0.076\n",
      "x28            0.0313      0.033      0.957      0.339      -0.033       0.095\n",
      "x29            0.0303      0.032      0.962      0.336      -0.032       0.092\n",
      "x30           -0.0114      0.032     -0.353      0.724      -0.075       0.052\n",
      "x31            0.0111      0.032      0.344      0.731      -0.052       0.074\n",
      "x32            0.0104      0.033      0.317      0.751      -0.054       0.075\n",
      "x33            0.0125      0.032      0.387      0.699      -0.051       0.076\n",
      "x34           -0.0083      0.032     -0.257      0.797      -0.072       0.055\n",
      "x35           -0.0067      0.034     -0.196      0.845      -0.073       0.060\n",
      "x36           -0.0309      0.034     -0.913      0.361      -0.097       0.035\n",
      "x37           -0.0680      0.031     -2.175      0.030      -0.129      -0.007\n",
      "x38            0.0226      0.033      0.682      0.495      -0.042       0.088\n",
      "x39           -0.0148      0.033     -0.454      0.650      -0.079       0.049\n",
      "x40            0.0104      0.031      0.338      0.735      -0.050       0.071\n",
      "x41            0.0409      0.033      1.255      0.210      -0.023       0.105\n",
      "x42           -0.0446      0.033     -1.367      0.172      -0.109       0.019\n",
      "x43            0.0532      0.033      1.611      0.107      -0.012       0.118\n",
      "x44            0.0236      0.031      0.767      0.443      -0.037       0.084\n",
      "x45           -0.0373      0.034     -1.091      0.276      -0.104       0.030\n",
      "x46            0.0175      0.032      0.546      0.585      -0.045       0.080\n",
      "x47           -0.0490      0.033     -1.492      0.136      -0.114       0.015\n",
      "x48            0.0082      0.033      0.251      0.802      -0.056       0.072\n",
      "x49           -0.0132      0.033     -0.401      0.688      -0.078       0.051\n",
      "x50           -0.0580      0.033     -1.750      0.081      -0.123       0.007\n",
      "x51            0.0078      0.033      0.237      0.813      -0.057       0.073\n",
      "x52           -0.0015      0.033     -0.047      0.963      -0.066       0.063\n",
      "x53            0.0453      0.034      1.327      0.185      -0.022       0.112\n",
      "x54            0.0109      0.032      0.341      0.733      -0.052       0.073\n",
      "x55           -0.0170      0.034     -0.507      0.612      -0.083       0.049\n",
      "x56           -0.0056      0.033     -0.170      0.865      -0.070       0.059\n",
      "x57            0.0147      0.034      0.438      0.661      -0.051       0.081\n",
      "x58           -0.0102      0.032     -0.319      0.750      -0.073       0.053\n",
      "x59           -0.0621      0.032     -1.940      0.053      -0.125       0.001\n",
      "x60           -0.0254      0.033     -0.767      0.443      -0.090       0.040\n",
      "x61           -0.0456      0.032     -1.405      0.161      -0.109       0.018\n",
      "x62            0.0071      0.033      0.214      0.831      -0.058       0.072\n",
      "x63           -0.0551      0.033     -1.688      0.092      -0.119       0.009\n",
      "x64           -0.0037      0.033     -0.112      0.911      -0.069       0.061\n",
      "x65           -0.0167      0.032     -0.523      0.601      -0.080       0.046\n",
      "x66           -0.0497      0.033     -1.499      0.134      -0.115       0.015\n",
      "x67            0.0414      0.031      1.314      0.189      -0.020       0.103\n",
      "x68           -0.0098      0.033     -0.300      0.765      -0.074       0.054\n",
      "x69            0.0379      0.032      1.179      0.239      -0.025       0.101\n",
      "x70           -0.0037      0.034     -0.110      0.912      -0.070       0.063\n",
      "x71            0.0145      0.032      0.457      0.648      -0.048       0.077\n",
      "x72           -0.0226      0.032     -0.698      0.486      -0.086       0.041\n",
      "x73           -0.0395      0.033     -1.197      0.232      -0.104       0.025\n",
      "x74            0.0646      0.033      1.985      0.047       0.001       0.128\n",
      "x75            0.0184      0.033      0.553      0.580      -0.047       0.084\n",
      "x76           -0.0282      0.034     -0.829      0.407      -0.095       0.039\n",
      "x77           -0.0166      0.033     -0.506      0.613      -0.081       0.048\n",
      "x78           -0.0517      0.033     -1.565      0.118      -0.117       0.013\n",
      "x79            0.0561      0.033      1.718      0.086      -0.008       0.120\n",
      "x80            0.0501      0.032      1.584      0.114      -0.012       0.112\n",
      "x81           -0.0067      0.033     -0.205      0.838      -0.071       0.057\n",
      "x82           -0.0210      0.032     -0.649      0.517      -0.084       0.042\n",
      "x83            0.0027      0.032      0.085      0.932      -0.059       0.065\n",
      "x84           -0.0204      0.031     -0.655      0.513      -0.082       0.041\n",
      "x85           -0.0063      0.033     -0.191      0.848      -0.071       0.058\n",
      "x86            0.0219      0.034      0.652      0.515      -0.044       0.088\n",
      "x87           -0.0071      0.034     -0.210      0.833      -0.073       0.059\n",
      "x88           -0.0137      0.032     -0.426      0.670      -0.077       0.050\n",
      "x89            0.0067      0.034      0.199      0.842      -0.059       0.072\n",
      "x90            0.0037      0.034      0.109      0.913      -0.063       0.070\n",
      "x91           -0.0512      0.032     -1.578      0.115      -0.115       0.012\n",
      "x92            0.0289      0.033      0.868      0.386      -0.036       0.094\n",
      "x93           -0.0541      0.033     -1.662      0.097      -0.118       0.010\n",
      "x94            0.0450      0.031      1.436      0.151      -0.016       0.106\n",
      "x95           -0.0871      0.034     -2.592      0.010      -0.153      -0.021\n",
      "x96            0.0239      0.034      0.709      0.479      -0.042       0.090\n",
      "x97            0.0132      0.033      0.402      0.688      -0.051       0.078\n",
      "x98            0.0573      0.034      1.683      0.093      -0.010       0.124\n",
      "x99           -0.0378      0.033     -1.145      0.253      -0.103       0.027\n",
      "==============================================================================\n",
      "Omnibus:                        2.423   Durbin-Watson:                   1.940\n",
      "Prob(Omnibus):                  0.298   Jarque-Bera (JB):                2.463\n",
      "Skew:                          -0.097   Prob(JB):                        0.292\n",
      "Kurtosis:                       2.853   Cond. No.                         1.89\n",
      "==============================================================================\n",
      "\n",
      "Notes:\n",
      "[1] Standard Errors assume that the covariance matrix of the errors is correctly specified.\n"
     ]
    }
   ],
   "source": [
    "X = np.random.normal(loc=0.0, scale=1.0, size=[1000,99])\n",
    "X = sm.add_constant(X)\n",
    "y = np.random.normal(loc=0.0, scale=1.0, size=[1000,1])\n",
    "model = sm.OLS(y, X)\n",
    "results = model.fit()\n",
    "print(results.summary()) ## \"Enough\""
   ]
  },
  {
   "cell_type": "markdown",
   "metadata": {},
   "source": [
    "# Comparing Models"
   ]
  },
  {
   "cell_type": "markdown",
   "metadata": {},
   "source": [
    "### Nested Models"
   ]
  },
  {
   "cell_type": "code",
   "execution_count": 14,
   "metadata": {},
   "outputs": [
    {
     "name": "stdout",
     "output_type": "stream",
     "text": [
      "                            OLS Regression Results                            \n",
      "==============================================================================\n",
      "Dep. Variable:                      y   R-squared:                       0.959\n",
      "Model:                            OLS   Adj. R-squared:                  0.938\n",
      "Method:                 Least Squares   F-statistic:                     44.53\n",
      "Date:                Tue, 15 Feb 2022   Prob (F-statistic):           4.76e-11\n",
      "Time:                        23:11:03   Log-Likelihood:                -21.555\n",
      "No. Observations:                  30   AIC:                             65.11\n",
      "Df Residuals:                      19   BIC:                             80.52\n",
      "Df Model:                          10                                         \n",
      "Covariance Type:            nonrobust                                         \n",
      "==============================================================================\n",
      "                 coef    std err          t      P>|t|      [0.025      0.975]\n",
      "------------------------------------------------------------------------------\n",
      "const         10.0807      0.738     13.652      0.000       8.535      11.626\n",
      "x1             5.2123      0.505     10.313      0.000       4.154       6.270\n",
      "x2             2.9559      0.487      6.064      0.000       1.936       3.976\n",
      "x3            -0.2804      0.499     -0.562      0.580      -1.324       0.763\n",
      "x4             3.1695      0.426      7.448      0.000       2.279       4.060\n",
      "x5            -0.6661      0.417     -1.596      0.127      -1.540       0.208\n",
      "x6             0.3988      0.525      0.759      0.457      -0.700       1.498\n",
      "x7            -0.0134      0.468     -0.029      0.977      -0.992       0.965\n",
      "x8             0.1061      0.544      0.195      0.847      -1.032       1.244\n",
      "x9             0.1429      0.758      0.188      0.853      -1.444       1.730\n",
      "x10            0.4862      0.587      0.828      0.418      -0.742       1.715\n",
      "==============================================================================\n",
      "Omnibus:                        0.234   Durbin-Watson:                   2.085\n",
      "Prob(Omnibus):                  0.890   Jarque-Bera (JB):                0.010\n",
      "Skew:                           0.042   Prob(JB):                        0.995\n",
      "Kurtosis:                       2.968   Cond. No.                         18.3\n",
      "==============================================================================\n",
      "\n",
      "Notes:\n",
      "[1] Standard Errors assume that the covariance matrix of the errors is correctly specified.\n"
     ]
    }
   ],
   "source": [
    "num_obs = 30\n",
    "X = np.random.uniform(size=[num_obs, 10])\n",
    "X = sm.add_constant(X)\n",
    "y = 10 + 5*X[:,1] + 3*X[:,2] + 4*X[:,4] + np.random.normal(loc = 0, scale = 0.6, size = num_obs)\n",
    "\n",
    "model_full = sm.OLS(y, X)\n",
    "results_full = model_full.fit()\n",
    "print(results_full.summary()) ## \"Enough\""
   ]
  },
  {
   "cell_type": "code",
   "execution_count": 15,
   "metadata": {},
   "outputs": [
    {
     "name": "stdout",
     "output_type": "stream",
     "text": [
      "                            OLS Regression Results                            \n",
      "==============================================================================\n",
      "Dep. Variable:                      y   R-squared:                       0.950\n",
      "Model:                            OLS   Adj. R-squared:                  0.944\n",
      "Method:                 Least Squares   F-statistic:                     163.4\n",
      "Date:                Tue, 15 Feb 2022   Prob (F-statistic):           5.50e-17\n",
      "Time:                        23:11:04   Log-Likelihood:                -24.672\n",
      "No. Observations:                  30   AIC:                             57.34\n",
      "Df Residuals:                      26   BIC:                             62.95\n",
      "Df Model:                           3                                         \n",
      "Covariance Type:            nonrobust                                         \n",
      "==============================================================================\n",
      "                 coef    std err          t      P>|t|      [0.025      0.975]\n",
      "------------------------------------------------------------------------------\n",
      "const         10.2146      0.304     33.564      0.000       9.589      10.840\n",
      "x1             5.4935      0.393     13.970      0.000       4.685       6.302\n",
      "x2             2.6793      0.377      7.103      0.000       1.904       3.455\n",
      "x3             3.3017      0.329     10.039      0.000       2.626       3.978\n",
      "==============================================================================\n",
      "Omnibus:                        6.606   Durbin-Watson:                   2.077\n",
      "Prob(Omnibus):                  0.037   Jarque-Bera (JB):                4.919\n",
      "Skew:                           0.921   Prob(JB):                       0.0855\n",
      "Kurtosis:                       3.734   Cond. No.                         5.73\n",
      "==============================================================================\n",
      "\n",
      "Notes:\n",
      "[1] Standard Errors assume that the covariance matrix of the errors is correctly specified.\n"
     ]
    }
   ],
   "source": [
    "model_reduced = sm.OLS(y, X[:,[0,1,2,4]])\n",
    "results_reduced = model_reduced.fit()\n",
    "print(results_reduced.summary())"
   ]
  },
  {
   "cell_type": "code",
   "execution_count": 16,
   "metadata": {
    "scrolled": false
   },
   "outputs": [
    {
     "name": "stdout",
     "output_type": "stream",
     "text": [
      "                            OLS Regression Results                            \n",
      "==============================================================================\n",
      "Dep. Variable:                      y   R-squared:                       0.754\n",
      "Model:                            OLS   Adj. R-squared:                  0.736\n",
      "Method:                 Least Squares   F-statistic:                     41.46\n",
      "Date:                Tue, 15 Feb 2022   Prob (F-statistic):           5.88e-09\n",
      "Time:                        23:11:04   Log-Likelihood:                -48.437\n",
      "No. Observations:                  30   AIC:                             102.9\n",
      "Df Residuals:                      27   BIC:                             107.1\n",
      "Df Model:                           2                                         \n",
      "Covariance Type:            nonrobust                                         \n",
      "==============================================================================\n",
      "                 coef    std err          t      P>|t|      [0.025      0.975]\n",
      "------------------------------------------------------------------------------\n",
      "const         10.9687      0.639     17.164      0.000       9.657      12.280\n",
      "x1             6.5231      0.823      7.929      0.000       4.835       8.211\n",
      "x2             3.0060      0.814      3.691      0.001       1.335       4.677\n",
      "==============================================================================\n",
      "Omnibus:                        1.248   Durbin-Watson:                   1.787\n",
      "Prob(Omnibus):                  0.536   Jarque-Bera (JB):                0.929\n",
      "Skew:                           0.097   Prob(JB):                        0.628\n",
      "Kurtosis:                       2.160   Cond. No.                         5.38\n",
      "==============================================================================\n",
      "\n",
      "Notes:\n",
      "[1] Standard Errors assume that the covariance matrix of the errors is correctly specified.\n"
     ]
    }
   ],
   "source": [
    "model_dropping_useful = sm.OLS(y, X[:,[0,1,2]])\n",
    "results_dropping_useful = model_dropping_useful.fit()\n",
    "print(results_dropping_useful.summary())"
   ]
  },
  {
   "cell_type": "code",
   "execution_count": 17,
   "metadata": {},
   "outputs": [
    {
     "data": {
      "text/html": [
       "<div>\n",
       "<style scoped>\n",
       "    .dataframe tbody tr th:only-of-type {\n",
       "        vertical-align: middle;\n",
       "    }\n",
       "\n",
       "    .dataframe tbody tr th {\n",
       "        vertical-align: top;\n",
       "    }\n",
       "\n",
       "    .dataframe thead th {\n",
       "        text-align: right;\n",
       "    }\n",
       "</style>\n",
       "<table border=\"1\" class=\"dataframe\">\n",
       "  <thead>\n",
       "    <tr style=\"text-align: right;\">\n",
       "      <th></th>\n",
       "      <th>df_resid</th>\n",
       "      <th>ssr</th>\n",
       "      <th>df_diff</th>\n",
       "      <th>ss_diff</th>\n",
       "      <th>F</th>\n",
       "      <th>Pr(&gt;F)</th>\n",
       "    </tr>\n",
       "  </thead>\n",
       "  <tbody>\n",
       "    <tr>\n",
       "      <th>0</th>\n",
       "      <td>26.0</td>\n",
       "      <td>9.098309</td>\n",
       "      <td>0.0</td>\n",
       "      <td>NaN</td>\n",
       "      <td>NaN</td>\n",
       "      <td>NaN</td>\n",
       "    </tr>\n",
       "    <tr>\n",
       "      <th>1</th>\n",
       "      <td>19.0</td>\n",
       "      <td>7.391582</td>\n",
       "      <td>7.0</td>\n",
       "      <td>1.706727</td>\n",
       "      <td>0.626732</td>\n",
       "      <td>0.728005</td>\n",
       "    </tr>\n",
       "  </tbody>\n",
       "</table>\n",
       "</div>"
      ],
      "text/plain": [
       "   df_resid       ssr  df_diff   ss_diff         F    Pr(>F)\n",
       "0      26.0  9.098309      0.0       NaN       NaN       NaN\n",
       "1      19.0  7.391582      7.0  1.706727  0.626732  0.728005"
      ]
     },
     "execution_count": 17,
     "metadata": {},
     "output_type": "execute_result"
    }
   ],
   "source": [
    "from statsmodels.stats.anova import anova_lm\n",
    "anova_lm(results_reduced,results_full)"
   ]
  },
  {
   "cell_type": "code",
   "execution_count": 18,
   "metadata": {},
   "outputs": [
    {
     "data": {
      "text/html": [
       "<div>\n",
       "<style scoped>\n",
       "    .dataframe tbody tr th:only-of-type {\n",
       "        vertical-align: middle;\n",
       "    }\n",
       "\n",
       "    .dataframe tbody tr th {\n",
       "        vertical-align: top;\n",
       "    }\n",
       "\n",
       "    .dataframe thead th {\n",
       "        text-align: right;\n",
       "    }\n",
       "</style>\n",
       "<table border=\"1\" class=\"dataframe\">\n",
       "  <thead>\n",
       "    <tr style=\"text-align: right;\">\n",
       "      <th></th>\n",
       "      <th>df_resid</th>\n",
       "      <th>ssr</th>\n",
       "      <th>df_diff</th>\n",
       "      <th>ss_diff</th>\n",
       "      <th>F</th>\n",
       "      <th>Pr(&gt;F)</th>\n",
       "    </tr>\n",
       "  </thead>\n",
       "  <tbody>\n",
       "    <tr>\n",
       "      <th>0</th>\n",
       "      <td>27.0</td>\n",
       "      <td>44.365290</td>\n",
       "      <td>0.0</td>\n",
       "      <td>NaN</td>\n",
       "      <td>NaN</td>\n",
       "      <td>NaN</td>\n",
       "    </tr>\n",
       "    <tr>\n",
       "      <th>1</th>\n",
       "      <td>19.0</td>\n",
       "      <td>7.391582</td>\n",
       "      <td>8.0</td>\n",
       "      <td>36.973708</td>\n",
       "      <td>11.880076</td>\n",
       "      <td>0.000006</td>\n",
       "    </tr>\n",
       "  </tbody>\n",
       "</table>\n",
       "</div>"
      ],
      "text/plain": [
       "   df_resid        ssr  df_diff    ss_diff          F    Pr(>F)\n",
       "0      27.0  44.365290      0.0        NaN        NaN       NaN\n",
       "1      19.0   7.391582      8.0  36.973708  11.880076  0.000006"
      ]
     },
     "execution_count": 18,
     "metadata": {},
     "output_type": "execute_result"
    }
   ],
   "source": [
    "from statsmodels.stats.anova import anova_lm\n",
    "anova_lm(results_dropping_useful, results_full)"
   ]
  },
  {
   "cell_type": "markdown",
   "metadata": {},
   "source": [
    "### Are we telling lies? Let's do it by hand"
   ]
  },
  {
   "cell_type": "code",
   "execution_count": 19,
   "metadata": {},
   "outputs": [
    {
     "name": "stdout",
     "output_type": "stream",
     "text": [
      "0.6267323746484085\n"
     ]
    }
   ],
   "source": [
    "numerator = np.sum((results_reduced.resid**2 - results_full.resid**2))/(results_reduced.df_resid- results_full.df_resid)\n",
    "denominator = np.sum((results_full.resid**2))/(results_full.df_resid)\n",
    "F_stat = numerator/denominator\n",
    "print(F_stat)"
   ]
  },
  {
   "cell_type": "code",
   "execution_count": 20,
   "metadata": {},
   "outputs": [
    {
     "data": {
      "text/plain": [
       "0.728004681695053"
      ]
     },
     "execution_count": 20,
     "metadata": {},
     "output_type": "execute_result"
    }
   ],
   "source": [
    "from scipy.stats import f\n",
    "1-f.cdf(F_stat, (results_reduced.df_resid- results_full.df_resid), results_full.df_resid)"
   ]
  },
  {
   "cell_type": "markdown",
   "metadata": {},
   "source": [
    "### Let's go back and look at R^2 and adjusted R^2"
   ]
  },
  {
   "cell_type": "markdown",
   "metadata": {},
   "source": [
    "### Stepwise Regression (actually uses cross-validation) but the idea is the same!"
   ]
  },
  {
   "cell_type": "code",
   "execution_count": 24,
   "metadata": {},
   "outputs": [
    {
     "data": {
      "text/plain": [
       "array([ 0.        ,  5.21231223,  2.95591151, -0.28036634,  3.16948628,\n",
       "       -0.66605767,  0.39877574, -0.0134247 ,  0.10613507,  0.14290809,\n",
       "        0.48617359])"
      ]
     },
     "execution_count": 24,
     "metadata": {},
     "output_type": "execute_result"
    }
   ],
   "source": [
    "from sklearn.feature_selection import SequentialFeatureSelector\n",
    "from sklearn.linear_model import LinearRegression\n",
    "reg = LinearRegression().fit(X, y)\n",
    "reg.coef_"
   ]
  },
  {
   "cell_type": "code",
   "execution_count": 26,
   "metadata": {},
   "outputs": [
    {
     "data": {
      "text/plain": [
       "10.08071832678506"
      ]
     },
     "execution_count": 26,
     "metadata": {},
     "output_type": "execute_result"
    }
   ],
   "source": [
    "reg.intercept_"
   ]
  },
  {
   "cell_type": "code",
   "execution_count": 33,
   "metadata": {},
   "outputs": [
    {
     "data": {
      "text/plain": [
       "array([False,  True,  True, False,  True,  True, False, False, False,\n",
       "       False, False])"
      ]
     },
     "execution_count": 33,
     "metadata": {},
     "output_type": "execute_result"
    }
   ],
   "source": [
    "reg_sequential =LinearRegression()\n",
    "sfs = SequentialFeatureSelector(reg_sequential, n_features_to_select=4)\n",
    "sfs.fit(X,y)\n",
    "sfs.get_support()"
   ]
  },
  {
   "cell_type": "code",
   "execution_count": null,
   "metadata": {},
   "outputs": [],
   "source": []
  }
 ],
 "metadata": {
  "kernelspec": {
   "display_name": "Python 3",
   "language": "python",
   "name": "python3"
  },
  "language_info": {
   "codemirror_mode": {
    "name": "ipython",
    "version": 3
   },
   "file_extension": ".py",
   "mimetype": "text/x-python",
   "name": "python",
   "nbconvert_exporter": "python",
   "pygments_lexer": "ipython3",
   "version": "3.8.5"
  }
 },
 "nbformat": 4,
 "nbformat_minor": 4
}
